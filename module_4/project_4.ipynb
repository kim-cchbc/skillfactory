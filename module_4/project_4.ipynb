{
 "cells": [
  {
   "cell_type": "code",
   "execution_count": 548,
   "metadata": {},
   "outputs": [],
   "source": [
    "import numpy as np # linear algebra\n",
    "import pandas as pd # data processing, CSV file I/O (e.g. pd.read_csv)\n",
    "\n",
    "import matplotlib.pyplot as plt\n",
    "import seaborn as sns \n",
    "%matplotlib inline\n",
    "import datetime as DT"
   ]
  },
  {
   "cell_type": "code",
   "execution_count": 615,
   "metadata": {},
   "outputs": [
    {
     "name": "stdout",
     "output_type": "stream",
     "text": [
      "<class 'pandas.core.frame.DataFrame'>\n",
      "RangeIndex: 127 entries, 0 to 126\n",
      "Data columns (total 32 columns):\n",
      " #   Column               Non-Null Count  Dtype  \n",
      "---  ------               --------------  -----  \n",
      " 0   flight_id            127 non-null    int64  \n",
      " 1   flight_no            127 non-null    object \n",
      " 2   scheduled_departure  127 non-null    object \n",
      " 3   scheduled_arrival    127 non-null    object \n",
      " 4   estimate_time        127 non-null    object \n",
      " 5   actual_departure     127 non-null    object \n",
      " 6   actual_arrival       127 non-null    object \n",
      " 7   real_time            127 non-null    object \n",
      " 8   departure_airport    127 non-null    object \n",
      " 9   air_dep_name         127 non-null    object \n",
      " 10  city_dep             127 non-null    object \n",
      " 11  dep_long             127 non-null    float64\n",
      " 12  dep_lat              127 non-null    float64\n",
      " 13  arrival_airport      127 non-null    object \n",
      " 14  air_arr_name         127 non-null    object \n",
      " 15  city_arrival         127 non-null    object \n",
      " 16  arr_long             127 non-null    float64\n",
      " 17  arr_lat              127 non-null    float64\n",
      " 18  bus_seats            118 non-null    float64\n",
      " 19  com_seats            118 non-null    float64\n",
      " 20  eco_seats            118 non-null    float64\n",
      " 21  bus_amount           118 non-null    float64\n",
      " 22  com_amount           118 non-null    float64\n",
      " 23  eco_amount           118 non-null    float64\n",
      " 24  total_amount_flight  118 non-null    float64\n",
      " 25  model                127 non-null    object \n",
      " 26  aircraft_code        127 non-null    object \n",
      " 27  bussines_seats       127 non-null    int64  \n",
      " 28  comfort_seats        127 non-null    int64  \n",
      " 29  economy_seats        127 non-null    int64  \n",
      " 30  total_seats          127 non-null    int64  \n",
      " 31  range                127 non-null    int64  \n",
      "dtypes: float64(11), int64(6), object(15)\n",
      "memory usage: 31.9+ KB\n"
     ]
    }
   ],
   "source": [
    "df = pd.read_csv('project_4_dataset.csv')\n",
    "df.info()"
   ]
  },
  {
   "cell_type": "markdown",
   "metadata": {},
   "source": [
    "### Предобработака"
   ]
  },
  {
   "cell_type": "code",
   "execution_count": 616,
   "metadata": {},
   "outputs": [],
   "source": [
    "# Заполним пропуски нулями\n",
    "df = df.fillna(0)"
   ]
  },
  {
   "cell_type": "code",
   "execution_count": 617,
   "metadata": {},
   "outputs": [],
   "source": [
    "# переведем даты в datetime\n",
    "date_col = ['scheduled_departure','scheduled_arrival','actual_departure','actual_arrival']\n",
    "\n",
    "for i in date_col:\n",
    "    df[i] = df[i].apply(lambda x: pd.to_datetime(x))"
   ]
  },
  {
   "cell_type": "code",
   "execution_count": 618,
   "metadata": {},
   "outputs": [],
   "source": [
    "# извлечем день и месяц для scheduled_departure\n",
    "df['month_dep'] = df['scheduled_departure'].dt.month\n",
    "df['day_dep'] = df['scheduled_departure'].dt.day\n",
    "df['day_name'] = df['scheduled_departure'].dt.weekday"
   ]
  },
  {
   "cell_type": "code",
   "execution_count": 619,
   "metadata": {},
   "outputs": [],
   "source": [
    "# переведем real_time (время полета) в минуты\n",
    "df['real_time'] = pd.to_datetime(df['real_time']).dt.hour*60 + pd.to_datetime(df['real_time']).dt.minute"
   ]
  },
  {
   "cell_type": "markdown",
   "metadata": {},
   "source": [
    "### Предварительный анализ данных"
   ]
  },
  {
   "cell_type": "markdown",
   "metadata": {},
   "source": [
    "Посмотрим сколько рейсов летает из Анапы"
   ]
  },
  {
   "cell_type": "code",
   "execution_count": 620,
   "metadata": {},
   "outputs": [
    {
     "data": {
      "text/plain": [
       "AAQ    127\n",
       "Name: departure_airport, dtype: int64"
      ]
     },
     "execution_count": 620,
     "metadata": {},
     "output_type": "execute_result"
    }
   ],
   "source": [
    "df.departure_airport.value_counts()"
   ]
  },
  {
   "cell_type": "code",
   "execution_count": 621,
   "metadata": {},
   "outputs": [
    {
     "data": {
      "text/plain": [
       "2"
      ]
     },
     "execution_count": 621,
     "metadata": {},
     "output_type": "execute_result"
    }
   ],
   "source": [
    "df['scheduled_departure'].dt.month.max()"
   ]
  },
  {
   "cell_type": "markdown",
   "metadata": {},
   "source": [
    "Имеем данные за январь и февраль 2017"
   ]
  },
  {
   "cell_type": "code",
   "execution_count": 622,
   "metadata": {},
   "outputs": [
    {
     "name": "stdout",
     "output_type": "stream",
     "text": [
      "Всего рейсов в январе: 67\n"
     ]
    },
    {
     "data": {
      "image/png": "[encoded data removed]",
      "text/plain": [
       "<Figure size 432x288 with 1 Axes>"
      ]
     },
     "metadata": {
      "needs_background": "light"
     },
     "output_type": "display_data"
    }
   ],
   "source": [
    "# Посмотрим на распределение полетов по дням в январе\n",
    "df.query('month_dep == 1').day_dep.hist(bins=31)\n",
    "print('Всего рейсов в январе:',sum(df.query('month_dep == 1').day_dep.value_counts()))"
   ]
  },
  {
   "cell_type": "code",
   "execution_count": 623,
   "metadata": {},
   "outputs": [
    {
     "name": "stdout",
     "output_type": "stream",
     "text": [
      "Всего рейсов в феврале: 60\n"
     ]
    },
    {
     "data": {
      "image/png": "[encoded data removed]",
      "text/plain": [
       "<Figure size 432x288 with 1 Axes>"
      ]
     },
     "metadata": {
      "needs_background": "light"
     },
     "output_type": "display_data"
    }
   ],
   "source": [
    "# Посмотрим на распределение полетов по дням в феврале\n",
    "df.query('month_dep == 2').day_dep.hist(bins=28)\n",
    "print('Всего рейсов в феврале:',sum(df.query('month_dep == 2').day_dep.value_counts()))"
   ]
  },
  {
   "cell_type": "code",
   "execution_count": 624,
   "metadata": {},
   "outputs": [],
   "source": [
    "# посмотрим на заполняемость рейсов\n",
    "df['total_in_flight'] = df.bus_seats + df.com_seats + df.eco_seats\n",
    "df['empty_bus'] = df.bussines_seats - df.bus_seats\n",
    "df['empty_com'] = df.comfort_seats - df.com_seats\n",
    "df['empty_eco'] = df.economy_seats - df.eco_seats\n",
    "df['occupancy_fl'] = df['total_in_flight']/df['total_seats']"
   ]
  },
  {
   "cell_type": "code",
   "execution_count": 625,
   "metadata": {},
   "outputs": [
    {
     "data": {
      "text/plain": [
       "<AxesSubplot:>"
      ]
     },
     "execution_count": 625,
     "metadata": {},
     "output_type": "execute_result"
    },
    {
     "data": {
      "image/png": "[encoded data removed]",
      "text/plain": [
       "<Figure size 432x288 with 1 Axes>"
      ]
     },
     "metadata": {
      "needs_background": "light"
     },
     "output_type": "display_data"
    }
   ],
   "source": [
    "df['occupancy_fl'].hist()"
   ]
  },
  {
   "cell_type": "code",
   "execution_count": 626,
   "metadata": {},
   "outputs": [
    {
     "data": {
      "text/plain": [
       "(19, 40)"
      ]
     },
     "execution_count": 626,
     "metadata": {},
     "output_type": "execute_result"
    }
   ],
   "source": [
    "# посмотрим сколько рейсов имеет заполняемость ниже 80%\n",
    "df.query('occupancy_fl < 0.8').shape"
   ]
  },
  {
   "cell_type": "code",
   "execution_count": 627,
   "metadata": {},
   "outputs": [
    {
     "data": {
      "text/plain": [
       "Sheremetyevo International Airport    59\n",
       "Belgorod International Airport        59\n",
       "Spichenkovo Airport                    9\n",
       "Name: air_arr_name, dtype: int64"
      ]
     },
     "execution_count": 627,
     "metadata": {},
     "output_type": "execute_result"
    }
   ],
   "source": [
    "# посмотрим по каким направлениям следуют рейсы\n",
    "df.air_arr_name.value_counts()"
   ]
  },
  {
   "cell_type": "markdown",
   "metadata": {},
   "source": [
    "Промежуточный итог: Рейсы в январе и феврале осуществляются регулярно, однако практически 10% от выполеных рейсов имеют заполняемость ниже 80%"
   ]
  },
  {
   "cell_type": "markdown",
   "metadata": {},
   "source": [
    "### Сбор дополнительных данных"
   ]
  },
  {
   "cell_type": "markdown",
   "metadata": {},
   "source": [
    "Для примерной оценки прибыльности рейса, соберем дополнительные данные:\n",
    "- стоимость авиа топлива на 2017 год по месяцам и аэропортам\n",
    "- средний расход топлива (кг/час) по моделям самолета"
   ]
  },
  {
   "cell_type": "code",
   "execution_count": 628,
   "metadata": {},
   "outputs": [
    {
     "data": {
      "text/plain": [
       "Boeing 737-300         68\n",
       "Sukhoi Superjet-100    59\n",
       "Name: model, dtype: int64"
      ]
     },
     "execution_count": 628,
     "metadata": {},
     "output_type": "execute_result"
    }
   ],
   "source": [
    "df.model.value_counts()"
   ]
  },
  {
   "cell_type": "raw",
   "metadata": {},
   "source": [
    "Январь\n",
    "Стоимость без НДС\n",
    "Анапа 41 435 руб/т\n",
    "Москва Шереметьево 36 100 руб/т\n",
    "Белгород 32 881 руб/т\n",
    "Новокузнецк 36 000 руб/т\n",
    "\n",
    "Февраль \n",
    "Стоимость без НДС\n",
    "Анапа 39 553 руб/т\n",
    "Москва Шереметьево 36 100 руб/т\n",
    "Белгород 32 881 руб/т\n",
    "Новокузнецк 36 000 руб/т\n",
    "\n",
    "\"Boeing 737-300 Расход\" 2 600 кг/ч \n",
    "\"Sukhoi Superjet-100\" 1700 кг/ч"
   ]
  },
  {
   "cell_type": "markdown",
   "metadata": {},
   "source": [
    "Основываясь на расходе топлива по конкретной модели самолета, можем вычислить примерный расход топлива на каждый рейс.<br>\n",
    "Однако, судить о прибыльности или убыточности рейса этой информации не достаточно. <br>\n",
    "Поэтому возьмем информацию из внешних источников о структуре операционных затрат авиакомпаний за первую половину 2017.<br>\n",
    "Расчитаем относительные пределы прибыльности рейсов основываясь на этих данных."
   ]
  },
  {
   "cell_type": "code",
   "execution_count": 629,
   "metadata": {},
   "outputs": [
    {
     "data": {
      "text/html": [
       "<img src=\"https://www.aex.ru/imgupl/d2694_p19.png\" width=\"1000\" height=\"100\"/>"
      ],
      "text/plain": [
       "<IPython.core.display.Image object>"
      ]
     },
     "execution_count": 629,
     "metadata": {},
     "output_type": "execute_result"
    }
   ],
   "source": [
    "from IPython.display import Image\n",
    "from IPython.core.display import HTML \n",
    "Image(url= \"https://www.aex.ru/imgupl/d2694_p19.png\", width=1000, height=100)"
   ]
  },
  {
   "cell_type": "markdown",
   "metadata": {},
   "source": [
    "Возьмем рейсы с заполняемостью 100% и расчитаем сумму ниже которой будем считать рейс малоприбыльным."
   ]
  },
  {
   "cell_type": "code",
   "execution_count": 630,
   "metadata": {},
   "outputs": [
    {
     "data": {
      "text/html": [
       "<div>\n",
       "<style scoped>\n",
       "    .dataframe tbody tr th:only-of-type {\n",
       "        vertical-align: middle;\n",
       "    }\n",
       "\n",
       "    .dataframe tbody tr th {\n",
       "        vertical-align: top;\n",
       "    }\n",
       "\n",
       "    .dataframe thead th {\n",
       "        text-align: right;\n",
       "    }\n",
       "</style>\n",
       "<table border=\"1\" class=\"dataframe\">\n",
       "  <thead>\n",
       "    <tr style=\"text-align: right;\">\n",
       "      <th></th>\n",
       "      <th>city_arrival</th>\n",
       "      <th>model</th>\n",
       "      <th>total_seats</th>\n",
       "    </tr>\n",
       "    <tr>\n",
       "      <th>total_amount_flight</th>\n",
       "      <th></th>\n",
       "      <th></th>\n",
       "      <th></th>\n",
       "    </tr>\n",
       "  </thead>\n",
       "  <tbody>\n",
       "    <tr>\n",
       "      <th>765300.0</th>\n",
       "      <td>Belgorod</td>\n",
       "      <td>Sukhoi Superjet-100</td>\n",
       "      <td>97</td>\n",
       "    </tr>\n",
       "    <tr>\n",
       "      <th>1886000.0</th>\n",
       "      <td>Moscow</td>\n",
       "      <td>Boeing 737-300</td>\n",
       "      <td>130</td>\n",
       "    </tr>\n",
       "  </tbody>\n",
       "</table>\n",
       "</div>"
      ],
      "text/plain": [
       "                    city_arrival                model  total_seats\n",
       "total_amount_flight                                               \n",
       "765300.0                Belgorod  Sukhoi Superjet-100           97\n",
       "1886000.0                 Moscow       Boeing 737-300          130"
      ]
     },
     "execution_count": 630,
     "metadata": {},
     "output_type": "execute_result"
    }
   ],
   "source": [
    "df.query('occupancy_fl == 1').groupby('total_amount_flight')[['city_arrival','model','total_seats']].max()"
   ]
  },
  {
   "cell_type": "code",
   "execution_count": 631,
   "metadata": {},
   "outputs": [],
   "source": [
    "df['profit_margin'] = df.model.apply(lambda x: 1886000.0*0.81 if x=='Boeing 737-300' else 765300.0*0.81 if x=='Sukhoi Superjet-100' else 0)"
   ]
  },
  {
   "cell_type": "code",
   "execution_count": 632,
   "metadata": {},
   "outputs": [],
   "source": [
    "df['profit'] = df['total_amount_flight'] - df['profit_margin']"
   ]
  },
  {
   "cell_type": "code",
   "execution_count": 633,
   "metadata": {},
   "outputs": [],
   "source": [
    "# создадим столбец с расходами на топливо по каждому рейсу\n",
    "df['fuel_consum_rub'] = 0\n",
    "df.loc[(df.model == 'Boeing 737-300') & (df.month_dep == 1),\n",
    "       'fuel_consum_rub'] = df.real_time*2600/60*41435*(1+0.18)/1000\n",
    "df.loc[(df.model == 'Boeing 737-300') & (df.month_dep == 2),\n",
    "       'fuel_consum_rub'] = df.real_time*2600/60*39553*(1+0.18)/1000\n",
    "\n",
    "df.loc[(df.model == 'Sukhoi Superjet-100') & (df.month_dep == 1),\n",
    "       'fuel_consum_rub'] = df.real_time*1700/60*41435*(1+0.18)/1000\n",
    "df.loc[(df.model == 'Sukhoi Superjet-100') & (df.month_dep == 2),\n",
    "       'fuel_consum_rub'] = df.real_time*1700/60*39553*(1+0.18)/1000"
   ]
  },
  {
   "cell_type": "code",
   "execution_count": 634,
   "metadata": {},
   "outputs": [
    {
     "data": {
      "text/plain": [
       "0.15155290891750117"
      ]
     },
     "execution_count": 634,
     "metadata": {},
     "output_type": "execute_result"
    },
    {
     "data": {
      "image/png": "[encoded data removed]",
      "text/plain": [
       "<Figure size 432x288 with 1 Axes>"
      ]
     },
     "metadata": {
      "needs_background": "light"
     },
     "output_type": "display_data"
    }
   ],
   "source": [
    "# Доля расходов на топливо\n",
    "(df['fuel_consum_rub']/df.loc[df.total_amount_flight > 0,'total_amount_flight']).hist()\n",
    "(df['fuel_consum_rub']/df.loc[df.total_amount_flight > 0,'total_amount_flight']).max()"
   ]
  },
  {
   "cell_type": "code",
   "execution_count": 635,
   "metadata": {},
   "outputs": [],
   "source": [
    "# Процент расходов на топливо от выручки\n",
    "df['fuel_ratio']=df['fuel_consum_rub']/df.loc[df.total_amount_flight > 0,'total_amount_flight']"
   ]
  },
  {
   "cell_type": "code",
   "execution_count": 636,
   "metadata": {},
   "outputs": [],
   "source": [
    "# Процент заполняемости в бизнесс классе\n",
    "df['bus_occup'] = df['bus_seats']/df['bussines_seats']"
   ]
  },
  {
   "cell_type": "code",
   "execution_count": 637,
   "metadata": {},
   "outputs": [],
   "source": [
    "# Процент заполняемости в эконом классе\n",
    "df['eco_occup'] = df['eco_seats']/df['economy_seats']"
   ]
  },
  {
   "cell_type": "code",
   "execution_count": 638,
   "metadata": {},
   "outputs": [],
   "source": [
    "df = df.drop(columns=['com_seats', 'comfort_seats','com_amount','scheduled_departure','scheduled_arrival',\n",
    "                     'estimate_time','actual_departure','actual_arrival','dep_long','dep_lat','departure_airport',\n",
    "                     'air_dep_name','city_dep','arr_long','arr_lat','empty_com','range'])"
   ]
  },
  {
   "cell_type": "code",
   "execution_count": 639,
   "metadata": {},
   "outputs": [
    {
     "name": "stdout",
     "output_type": "stream",
     "text": [
      "<class 'pandas.core.frame.DataFrame'>\n",
      "RangeIndex: 127 entries, 0 to 126\n",
      "Data columns (total 29 columns):\n",
      " #   Column               Non-Null Count  Dtype  \n",
      "---  ------               --------------  -----  \n",
      " 0   flight_id            127 non-null    int64  \n",
      " 1   flight_no            127 non-null    object \n",
      " 2   real_time            127 non-null    int64  \n",
      " 3   arrival_airport      127 non-null    object \n",
      " 4   air_arr_name         127 non-null    object \n",
      " 5   city_arrival         127 non-null    object \n",
      " 6   bus_seats            127 non-null    float64\n",
      " 7   eco_seats            127 non-null    float64\n",
      " 8   bus_amount           127 non-null    float64\n",
      " 9   eco_amount           127 non-null    float64\n",
      " 10  total_amount_flight  127 non-null    float64\n",
      " 11  model                127 non-null    object \n",
      " 12  aircraft_code        127 non-null    object \n",
      " 13  bussines_seats       127 non-null    int64  \n",
      " 14  economy_seats        127 non-null    int64  \n",
      " 15  total_seats          127 non-null    int64  \n",
      " 16  month_dep            127 non-null    int64  \n",
      " 17  day_dep              127 non-null    int64  \n",
      " 18  day_name             127 non-null    int64  \n",
      " 19  total_in_flight      127 non-null    float64\n",
      " 20  empty_bus            127 non-null    float64\n",
      " 21  empty_eco            127 non-null    float64\n",
      " 22  occupancy_fl         127 non-null    float64\n",
      " 23  profit_margin        127 non-null    float64\n",
      " 24  profit               127 non-null    float64\n",
      " 25  fuel_consum_rub      127 non-null    float64\n",
      " 26  fuel_ratio           118 non-null    float64\n",
      " 27  bus_occup            127 non-null    float64\n",
      " 28  eco_occup            127 non-null    float64\n",
      "dtypes: float64(15), int64(8), object(6)\n",
      "memory usage: 28.9+ KB\n"
     ]
    }
   ],
   "source": [
    "df.info()"
   ]
  },
  {
   "cell_type": "markdown",
   "metadata": {},
   "source": [
    "Выделим проблемные рейсы (рейсы у которых предел прибыльности выше выручки)"
   ]
  },
  {
   "cell_type": "code",
   "execution_count": 640,
   "metadata": {},
   "outputs": [],
   "source": [
    "df_problem = df.query('profit_margin > total_amount_flight')\n"
   ]
  },
  {
   "cell_type": "markdown",
   "metadata": {},
   "source": [
    "Все рейсы выделим в отделбный датасет"
   ]
  },
  {
   "cell_type": "code",
   "execution_count": 801,
   "metadata": {},
   "outputs": [],
   "source": [
    "# Оставим интересующие нас данные\n",
    "df_final = df[['flight_id', 'flight_no', 'month_dep', 'day_dep','day_name', 'real_time', 'arrival_airport',\n",
    "               'city_arrival','bus_seats','bus_occup', 'eco_seats','eco_occup', 'model', 'total_seats', \n",
    "               'total_in_flight', 'empty_bus', 'empty_eco', 'occupancy_fl','bus_amount','eco_amount','fuel_consum_rub',\n",
    "               'fuel_ratio','profit_margin','profit','total_amount_flight']]"
   ]
  },
  {
   "cell_type": "code",
   "execution_count": 802,
   "metadata": {},
   "outputs": [
    {
     "name": "stdout",
     "output_type": "stream",
     "text": [
      "<class 'pandas.core.frame.DataFrame'>\n",
      "RangeIndex: 127 entries, 0 to 126\n",
      "Data columns (total 25 columns):\n",
      " #   Column               Non-Null Count  Dtype  \n",
      "---  ------               --------------  -----  \n",
      " 0   flight_id            127 non-null    int64  \n",
      " 1   flight_no            127 non-null    object \n",
      " 2   month_dep            127 non-null    int64  \n",
      " 3   day_dep              127 non-null    int64  \n",
      " 4   day_name             127 non-null    int64  \n",
      " 5   real_time            127 non-null    int64  \n",
      " 6   arrival_airport      127 non-null    object \n",
      " 7   city_arrival         127 non-null    object \n",
      " 8   bus_seats            127 non-null    float64\n",
      " 9   bus_occup            127 non-null    float64\n",
      " 10  eco_seats            127 non-null    float64\n",
      " 11  eco_occup            127 non-null    float64\n",
      " 12  model                127 non-null    object \n",
      " 13  total_seats          127 non-null    int64  \n",
      " 14  total_in_flight      127 non-null    float64\n",
      " 15  empty_bus            127 non-null    float64\n",
      " 16  empty_eco            127 non-null    float64\n",
      " 17  occupancy_fl         127 non-null    float64\n",
      " 18  bus_amount           127 non-null    float64\n",
      " 19  eco_amount           127 non-null    float64\n",
      " 20  fuel_consum_rub      127 non-null    float64\n",
      " 21  fuel_ratio           118 non-null    float64\n",
      " 22  profit_margin        127 non-null    float64\n",
      " 23  profit               127 non-null    float64\n",
      " 24  total_amount_flight  127 non-null    float64\n",
      "dtypes: float64(15), int64(6), object(4)\n",
      "memory usage: 24.9+ KB\n"
     ]
    }
   ],
   "source": [
    "df_final.info()"
   ]
  },
  {
   "cell_type": "markdown",
   "metadata": {},
   "source": [
    "# Анализ рейсов"
   ]
  },
  {
   "cell_type": "markdown",
   "metadata": {},
   "source": [
    "Проанализируем рейсы по направлениям, мы имеем всего три направления: Москва, Белгород, Новокузнецк"
   ]
  },
  {
   "cell_type": "code",
   "execution_count": 643,
   "metadata": {},
   "outputs": [],
   "source": [
    "def per_city(data):\n",
    "    for i in df_final.city_arrival.unique():\n",
    "        print('Город прилета :', i)\n",
    "        df_help = df_final[df_final['city_arrival'] == i]\n",
    "        print('Совершенных рейсов :', len(df_help['flight_no']))\n",
    "        print('Модель самолета :', df_help['model'].unique())\n",
    "        print('Кол-во перевезенных пассажиров :', df_help['total_in_flight'].sum())\n",
    "        print('Среднее время полета :', df_help['real_time'].mean())\n",
    "        print('Выручка за янв-февр :',round(df_help['total_amount_flight'].sum(),2))\n",
    "        print('Средняя выручка на одного пассажира :',round(df_help['total_amount_flight'].sum()/df_help['total_in_flight'].sum(),2))\n",
    "        print(' ')\n",
    "        print('Рейсы в январе :', len(df_help.loc[df['month_dep']==1]))\n",
    "        print('Средняя заполняемость в январе :', df_help.loc[df['month_dep']==1,'occupancy_fl'].mean())\n",
    "        print('Выручка в январе :', sum(df_help.loc[df['month_dep']==1,'total_amount_flight']))\n",
    "        print(' ')\n",
    "        print('Рейсы в феврале :', len(df_help.loc[df['month_dep']==2]))\n",
    "        print('Средняя заполняемость в феврале :', df_help.loc[df['month_dep']==2,'occupancy_fl'].mean())\n",
    "        print('Выручка в феврале :', sum(df_help.loc[df['month_dep']==2,'total_amount_flight']))\n",
    "        print(' ------------ ')\n",
    "        print(' ')"
   ]
  },
  {
   "cell_type": "code",
   "execution_count": 644,
   "metadata": {},
   "outputs": [
    {
     "name": "stdout",
     "output_type": "stream",
     "text": [
      "Город прилета : Moscow\n",
      "Совершенных рейсов : 59\n",
      "Модель самолета : ['Boeing 737-300']\n",
      "Кол-во перевезенных пассажиров : 6674.0\n",
      "Среднее время полета : 99.83050847457628\n",
      "Выручка за янв-февр : 96912000.0\n",
      "Средняя выручка на одного пассажира : 14520.83\n",
      " \n",
      "Рейсы в январе : 31\n",
      "Средняя заполняемость в январе : 0.8761786600496281\n",
      "Выручка в январе : 51274600.0\n",
      " \n",
      "Рейсы в феврале : 28\n",
      "Средняя заполняемость в феврале : 0.8634615384615384\n",
      "Выручка в феврале : 45637400.0\n",
      " ------------ \n",
      " \n",
      "Город прилета : Belgorod\n",
      "Совершенных рейсов : 59\n",
      "Модель самолета : ['Sukhoi Superjet-100']\n",
      "Кол-во перевезенных пассажиров : 5321.0\n",
      "Среднее время полета : 50.08474576271186\n",
      "Выручка за янв-февр : 41915700.0\n",
      "Средняя выручка на одного пассажира : 7877.41\n",
      " \n",
      "Рейсы в январе : 31\n",
      "Средняя заполняемость в январе : 0.9308280678417028\n",
      "Выручка в январе : 22067100.0\n",
      " \n",
      "Рейсы в феврале : 28\n",
      "Средняя заполняемость в феврале : 0.9285714285714287\n",
      "Выручка в феврале : 19848600.0\n",
      " ------------ \n",
      " \n",
      "Город прилета : Novokuznetsk\n",
      "Совершенных рейсов : 9\n",
      "Модель самолета : ['Boeing 737-300']\n",
      "Кол-во перевезенных пассажиров : 0.0\n",
      "Среднее время полета : 306.6666666666667\n",
      "Выручка за янв-февр : 0.0\n",
      "Средняя выручка на одного пассажира : nan\n",
      " \n",
      "Рейсы в январе : 5\n",
      "Средняя заполняемость в январе : 0.0\n",
      "Выручка в январе : 0.0\n",
      " \n",
      "Рейсы в феврале : 4\n",
      "Средняя заполняемость в феврале : 0.0\n",
      "Выручка в феврале : 0.0\n",
      " ------------ \n",
      " \n"
     ]
    },
    {
     "name": "stderr",
     "output_type": "stream",
     "text": [
      "<ipython-input-643-84ce608ad641>:10: RuntimeWarning: invalid value encountered in double_scalars\n",
      "  print('Средняя выручка на одного пассажира :',round(df_help['total_amount_flight'].sum()/df_help['total_in_flight'].sum(),2))\n"
     ]
    }
   ],
   "source": [
    "per_city(df_final)"
   ]
  },
  {
   "cell_type": "markdown",
   "metadata": {},
   "source": [
    "- Как мы видим по рейсам в Новокузнецк мы не имеем данных. Анализировать это направление мы не будем."
   ]
  },
  {
   "cell_type": "code",
   "execution_count": 816,
   "metadata": {},
   "outputs": [],
   "source": [
    "# Удалим строки по направлению Новокузнецк\n",
    "df_final = df_final.drop(df_final[df_final['city_arrival'] == 'Novokuznetsk'].index)"
   ]
  },
  {
   "cell_type": "code",
   "execution_count": 817,
   "metadata": {},
   "outputs": [
    {
     "data": {
      "text/html": [
       "<div>\n",
       "<style scoped>\n",
       "    .dataframe tbody tr th:only-of-type {\n",
       "        vertical-align: middle;\n",
       "    }\n",
       "\n",
       "    .dataframe tbody tr th {\n",
       "        vertical-align: top;\n",
       "    }\n",
       "\n",
       "    .dataframe thead th {\n",
       "        text-align: right;\n",
       "    }\n",
       "</style>\n",
       "<table border=\"1\" class=\"dataframe\">\n",
       "  <thead>\n",
       "    <tr style=\"text-align: right;\">\n",
       "      <th></th>\n",
       "      <th>flight_id</th>\n",
       "      <th>flight_no</th>\n",
       "      <th>month_dep</th>\n",
       "      <th>day_dep</th>\n",
       "      <th>day_name</th>\n",
       "      <th>real_time</th>\n",
       "      <th>arrival_airport</th>\n",
       "      <th>city_arrival</th>\n",
       "      <th>bus_seats</th>\n",
       "      <th>bus_occup</th>\n",
       "      <th>...</th>\n",
       "      <th>empty_bus</th>\n",
       "      <th>empty_eco</th>\n",
       "      <th>occupancy_fl</th>\n",
       "      <th>bus_amount</th>\n",
       "      <th>eco_amount</th>\n",
       "      <th>fuel_consum_rub</th>\n",
       "      <th>fuel_ratio</th>\n",
       "      <th>profit_margin</th>\n",
       "      <th>profit</th>\n",
       "      <th>total_amount_flight</th>\n",
       "    </tr>\n",
       "  </thead>\n",
       "  <tbody>\n",
       "    <tr>\n",
       "      <th>0</th>\n",
       "      <td>136119</td>\n",
       "      <td>PG0252</td>\n",
       "      <td>1</td>\n",
       "      <td>3</td>\n",
       "      <td>1</td>\n",
       "      <td>101</td>\n",
       "      <td>SVO</td>\n",
       "      <td>Moscow</td>\n",
       "      <td>11.0</td>\n",
       "      <td>0.916667</td>\n",
       "      <td>...</td>\n",
       "      <td>1.0</td>\n",
       "      <td>16.0</td>\n",
       "      <td>0.869231</td>\n",
       "      <td>402600.0</td>\n",
       "      <td>1250400.0</td>\n",
       "      <td>213989.676333</td>\n",
       "      <td>0.129455</td>\n",
       "      <td>1527660.0</td>\n",
       "      <td>125340.0</td>\n",
       "      <td>1653000.0</td>\n",
       "    </tr>\n",
       "    <tr>\n",
       "      <th>1</th>\n",
       "      <td>136120</td>\n",
       "      <td>PG0252</td>\n",
       "      <td>2</td>\n",
       "      <td>24</td>\n",
       "      <td>4</td>\n",
       "      <td>99</td>\n",
       "      <td>SVO</td>\n",
       "      <td>Moscow</td>\n",
       "      <td>11.0</td>\n",
       "      <td>0.916667</td>\n",
       "      <td>...</td>\n",
       "      <td>1.0</td>\n",
       "      <td>20.0</td>\n",
       "      <td>0.838462</td>\n",
       "      <td>402600.0</td>\n",
       "      <td>1202800.0</td>\n",
       "      <td>200225.196600</td>\n",
       "      <td>0.124720</td>\n",
       "      <td>1527660.0</td>\n",
       "      <td>77740.0</td>\n",
       "      <td>1605400.0</td>\n",
       "    </tr>\n",
       "    <tr>\n",
       "      <th>2</th>\n",
       "      <td>136122</td>\n",
       "      <td>PG0252</td>\n",
       "      <td>1</td>\n",
       "      <td>8</td>\n",
       "      <td>6</td>\n",
       "      <td>100</td>\n",
       "      <td>SVO</td>\n",
       "      <td>Moscow</td>\n",
       "      <td>10.0</td>\n",
       "      <td>0.833333</td>\n",
       "      <td>...</td>\n",
       "      <td>2.0</td>\n",
       "      <td>31.0</td>\n",
       "      <td>0.746154</td>\n",
       "      <td>366000.0</td>\n",
       "      <td>1065000.0</td>\n",
       "      <td>211870.966667</td>\n",
       "      <td>0.148058</td>\n",
       "      <td>1527660.0</td>\n",
       "      <td>-96660.0</td>\n",
       "      <td>1431000.0</td>\n",
       "    </tr>\n",
       "    <tr>\n",
       "      <th>3</th>\n",
       "      <td>136130</td>\n",
       "      <td>PG0252</td>\n",
       "      <td>2</td>\n",
       "      <td>13</td>\n",
       "      <td>0</td>\n",
       "      <td>99</td>\n",
       "      <td>SVO</td>\n",
       "      <td>Moscow</td>\n",
       "      <td>10.0</td>\n",
       "      <td>0.833333</td>\n",
       "      <td>...</td>\n",
       "      <td>2.0</td>\n",
       "      <td>21.0</td>\n",
       "      <td>0.823077</td>\n",
       "      <td>366000.0</td>\n",
       "      <td>1190600.0</td>\n",
       "      <td>200225.196600</td>\n",
       "      <td>0.128630</td>\n",
       "      <td>1527660.0</td>\n",
       "      <td>28940.0</td>\n",
       "      <td>1556600.0</td>\n",
       "    </tr>\n",
       "    <tr>\n",
       "      <th>4</th>\n",
       "      <td>136131</td>\n",
       "      <td>PG0252</td>\n",
       "      <td>1</td>\n",
       "      <td>28</td>\n",
       "      <td>5</td>\n",
       "      <td>99</td>\n",
       "      <td>SVO</td>\n",
       "      <td>Moscow</td>\n",
       "      <td>12.0</td>\n",
       "      <td>1.000000</td>\n",
       "      <td>...</td>\n",
       "      <td>0.0</td>\n",
       "      <td>6.0</td>\n",
       "      <td>0.953846</td>\n",
       "      <td>439200.0</td>\n",
       "      <td>1373600.0</td>\n",
       "      <td>209752.257000</td>\n",
       "      <td>0.115706</td>\n",
       "      <td>1527660.0</td>\n",
       "      <td>285140.0</td>\n",
       "      <td>1812800.0</td>\n",
       "    </tr>\n",
       "    <tr>\n",
       "      <th>...</th>\n",
       "      <td>...</td>\n",
       "      <td>...</td>\n",
       "      <td>...</td>\n",
       "      <td>...</td>\n",
       "      <td>...</td>\n",
       "      <td>...</td>\n",
       "      <td>...</td>\n",
       "      <td>...</td>\n",
       "      <td>...</td>\n",
       "      <td>...</td>\n",
       "      <td>...</td>\n",
       "      <td>...</td>\n",
       "      <td>...</td>\n",
       "      <td>...</td>\n",
       "      <td>...</td>\n",
       "      <td>...</td>\n",
       "      <td>...</td>\n",
       "      <td>...</td>\n",
       "      <td>...</td>\n",
       "      <td>...</td>\n",
       "      <td>...</td>\n",
       "    </tr>\n",
       "    <tr>\n",
       "      <th>113</th>\n",
       "      <td>136936</td>\n",
       "      <td>PG0480</td>\n",
       "      <td>1</td>\n",
       "      <td>2</td>\n",
       "      <td>0</td>\n",
       "      <td>50</td>\n",
       "      <td>EGO</td>\n",
       "      <td>Belgorod</td>\n",
       "      <td>9.0</td>\n",
       "      <td>0.750000</td>\n",
       "      <td>...</td>\n",
       "      <td>3.0</td>\n",
       "      <td>12.0</td>\n",
       "      <td>0.845361</td>\n",
       "      <td>170100.0</td>\n",
       "      <td>462300.0</td>\n",
       "      <td>69265.508333</td>\n",
       "      <td>0.109528</td>\n",
       "      <td>619893.0</td>\n",
       "      <td>12507.0</td>\n",
       "      <td>632400.0</td>\n",
       "    </tr>\n",
       "    <tr>\n",
       "      <th>114</th>\n",
       "      <td>136937</td>\n",
       "      <td>PG0480</td>\n",
       "      <td>1</td>\n",
       "      <td>3</td>\n",
       "      <td>1</td>\n",
       "      <td>50</td>\n",
       "      <td>EGO</td>\n",
       "      <td>Belgorod</td>\n",
       "      <td>9.0</td>\n",
       "      <td>0.750000</td>\n",
       "      <td>...</td>\n",
       "      <td>3.0</td>\n",
       "      <td>13.0</td>\n",
       "      <td>0.835052</td>\n",
       "      <td>170100.0</td>\n",
       "      <td>456000.0</td>\n",
       "      <td>69265.508333</td>\n",
       "      <td>0.110630</td>\n",
       "      <td>619893.0</td>\n",
       "      <td>6207.0</td>\n",
       "      <td>626100.0</td>\n",
       "    </tr>\n",
       "    <tr>\n",
       "      <th>115</th>\n",
       "      <td>136951</td>\n",
       "      <td>PG0480</td>\n",
       "      <td>2</td>\n",
       "      <td>2</td>\n",
       "      <td>3</td>\n",
       "      <td>49</td>\n",
       "      <td>EGO</td>\n",
       "      <td>Belgorod</td>\n",
       "      <td>12.0</td>\n",
       "      <td>1.000000</td>\n",
       "      <td>...</td>\n",
       "      <td>0.0</td>\n",
       "      <td>7.0</td>\n",
       "      <td>0.927835</td>\n",
       "      <td>226800.0</td>\n",
       "      <td>493800.0</td>\n",
       "      <td>64797.043033</td>\n",
       "      <td>0.089921</td>\n",
       "      <td>619893.0</td>\n",
       "      <td>100707.0</td>\n",
       "      <td>720600.0</td>\n",
       "    </tr>\n",
       "    <tr>\n",
       "      <th>116</th>\n",
       "      <td>136953</td>\n",
       "      <td>PG0480</td>\n",
       "      <td>2</td>\n",
       "      <td>27</td>\n",
       "      <td>0</td>\n",
       "      <td>50</td>\n",
       "      <td>EGO</td>\n",
       "      <td>Belgorod</td>\n",
       "      <td>12.0</td>\n",
       "      <td>1.000000</td>\n",
       "      <td>...</td>\n",
       "      <td>0.0</td>\n",
       "      <td>0.0</td>\n",
       "      <td>1.000000</td>\n",
       "      <td>226800.0</td>\n",
       "      <td>538500.0</td>\n",
       "      <td>66119.431667</td>\n",
       "      <td>0.086397</td>\n",
       "      <td>619893.0</td>\n",
       "      <td>145407.0</td>\n",
       "      <td>765300.0</td>\n",
       "    </tr>\n",
       "    <tr>\n",
       "      <th>117</th>\n",
       "      <td>136956</td>\n",
       "      <td>PG0480</td>\n",
       "      <td>2</td>\n",
       "      <td>4</td>\n",
       "      <td>5</td>\n",
       "      <td>50</td>\n",
       "      <td>EGO</td>\n",
       "      <td>Belgorod</td>\n",
       "      <td>11.0</td>\n",
       "      <td>0.916667</td>\n",
       "      <td>...</td>\n",
       "      <td>1.0</td>\n",
       "      <td>0.0</td>\n",
       "      <td>0.989691</td>\n",
       "      <td>207900.0</td>\n",
       "      <td>538500.0</td>\n",
       "      <td>66119.431667</td>\n",
       "      <td>0.088584</td>\n",
       "      <td>619893.0</td>\n",
       "      <td>126507.0</td>\n",
       "      <td>746400.0</td>\n",
       "    </tr>\n",
       "  </tbody>\n",
       "</table>\n",
       "<p>118 rows × 25 columns</p>\n",
       "</div>"
      ],
      "text/plain": [
       "     flight_id flight_no  month_dep  day_dep  day_name  real_time  \\\n",
       "0       136119    PG0252          1        3         1        101   \n",
       "1       136120    PG0252          2       24         4         99   \n",
       "2       136122    PG0252          1        8         6        100   \n",
       "3       136130    PG0252          2       13         0         99   \n",
       "4       136131    PG0252          1       28         5         99   \n",
       "..         ...       ...        ...      ...       ...        ...   \n",
       "113     136936    PG0480          1        2         0         50   \n",
       "114     136937    PG0480          1        3         1         50   \n",
       "115     136951    PG0480          2        2         3         49   \n",
       "116     136953    PG0480          2       27         0         50   \n",
       "117     136956    PG0480          2        4         5         50   \n",
       "\n",
       "    arrival_airport city_arrival  bus_seats  bus_occup  ...  empty_bus  \\\n",
       "0               SVO       Moscow       11.0   0.916667  ...        1.0   \n",
       "1               SVO       Moscow       11.0   0.916667  ...        1.0   \n",
       "2               SVO       Moscow       10.0   0.833333  ...        2.0   \n",
       "3               SVO       Moscow       10.0   0.833333  ...        2.0   \n",
       "4               SVO       Moscow       12.0   1.000000  ...        0.0   \n",
       "..              ...          ...        ...        ...  ...        ...   \n",
       "113             EGO     Belgorod        9.0   0.750000  ...        3.0   \n",
       "114             EGO     Belgorod        9.0   0.750000  ...        3.0   \n",
       "115             EGO     Belgorod       12.0   1.000000  ...        0.0   \n",
       "116             EGO     Belgorod       12.0   1.000000  ...        0.0   \n",
       "117             EGO     Belgorod       11.0   0.916667  ...        1.0   \n",
       "\n",
       "     empty_eco occupancy_fl  bus_amount  eco_amount  fuel_consum_rub  \\\n",
       "0         16.0     0.869231    402600.0   1250400.0    213989.676333   \n",
       "1         20.0     0.838462    402600.0   1202800.0    200225.196600   \n",
       "2         31.0     0.746154    366000.0   1065000.0    211870.966667   \n",
       "3         21.0     0.823077    366000.0   1190600.0    200225.196600   \n",
       "4          6.0     0.953846    439200.0   1373600.0    209752.257000   \n",
       "..         ...          ...         ...         ...              ...   \n",
       "113       12.0     0.845361    170100.0    462300.0     69265.508333   \n",
       "114       13.0     0.835052    170100.0    456000.0     69265.508333   \n",
       "115        7.0     0.927835    226800.0    493800.0     64797.043033   \n",
       "116        0.0     1.000000    226800.0    538500.0     66119.431667   \n",
       "117        0.0     0.989691    207900.0    538500.0     66119.431667   \n",
       "\n",
       "     fuel_ratio  profit_margin    profit  total_amount_flight  \n",
       "0      0.129455      1527660.0  125340.0            1653000.0  \n",
       "1      0.124720      1527660.0   77740.0            1605400.0  \n",
       "2      0.148058      1527660.0  -96660.0            1431000.0  \n",
       "3      0.128630      1527660.0   28940.0            1556600.0  \n",
       "4      0.115706      1527660.0  285140.0            1812800.0  \n",
       "..          ...            ...       ...                  ...  \n",
       "113    0.109528       619893.0   12507.0             632400.0  \n",
       "114    0.110630       619893.0    6207.0             626100.0  \n",
       "115    0.089921       619893.0  100707.0             720600.0  \n",
       "116    0.086397       619893.0  145407.0             765300.0  \n",
       "117    0.088584       619893.0  126507.0             746400.0  \n",
       "\n",
       "[118 rows x 25 columns]"
      ]
     },
     "execution_count": 817,
     "metadata": {},
     "output_type": "execute_result"
    }
   ],
   "source": [
    "df_final"
   ]
  },
  {
   "cell_type": "markdown",
   "metadata": {},
   "source": [
    "Посмотрим какие показатели влияют на прибыль и выручку. Очевидно, что это заполняемость рейса, но возможно, увидим другие закономерности"
   ]
  },
  {
   "cell_type": "code",
   "execution_count": 841,
   "metadata": {},
   "outputs": [
    {
     "data": {
      "text/plain": [
       "<AxesSubplot:>"
      ]
     },
     "execution_count": 841,
     "metadata": {},
     "output_type": "execute_result"
    },
    {
     "data": {
      "image/png": "[encoded data removed]",
      "text/plain": [
       "<Figure size 1080x720 with 2 Axes>"
      ]
     },
     "metadata": {},
     "output_type": "display_data"
    }
   ],
   "source": [
    "plt.rcParams['figure.figsize'] = (15,10)\n",
    "sns.heatmap(df_final.drop(['flight_id','flight_no'], axis=1).corr())"
   ]
  },
  {
   "cell_type": "code",
   "execution_count": 821,
   "metadata": {},
   "outputs": [
    {
     "name": "stdout",
     "output_type": "stream",
     "text": [
      "Row/Col : \n",
      " real_time / flight_id \n",
      " -0.8992554002259235 \n",
      "\n",
      "Row/Col : \n",
      " eco_seats / flight_id \n",
      " -0.7341700340796758 \n",
      "\n",
      "Row/Col : \n",
      " total_seats / flight_id \n",
      " -0.900023146619479 \n",
      "\n",
      "Row/Col : \n",
      " total_in_flight / flight_id \n",
      " -0.7059649316036918 \n",
      "\n",
      "Row/Col : \n",
      " bus_amount / flight_id \n",
      " -0.831428131582771 \n",
      "\n",
      "Row/Col : \n",
      " eco_amount / flight_id \n",
      " -0.8716991487049094 \n",
      "\n",
      "Row/Col : \n",
      " fuel_consum_rub / flight_id \n",
      " -0.8986479127198986 \n",
      "\n",
      "Row/Col : \n",
      " fuel_ratio / flight_id \n",
      " -0.7515317320424827 \n",
      "\n",
      "Row/Col : \n",
      " profit_margin / flight_id \n",
      " -0.9000231466194782 \n",
      "\n",
      "Row/Col : \n",
      " total_amount_flight / flight_id \n",
      " -0.872854743289553 \n",
      "\n",
      "Row/Col : \n",
      " eco_seats / real_time \n",
      " 0.838841237574015 \n",
      "\n",
      "Row/Col : \n",
      " total_seats / real_time \n",
      " 0.9994464924750937 \n",
      "\n",
      "Row/Col : \n",
      " total_in_flight / real_time \n",
      " 0.8028972691075213 \n",
      "\n",
      "Row/Col : \n",
      " bus_amount / real_time \n",
      " 0.9057372747998053 \n",
      "\n",
      "Row/Col : \n",
      " eco_amount / real_time \n",
      " 0.9784983134952807 \n",
      "\n",
      "Row/Col : \n",
      " fuel_consum_rub / real_time \n",
      " 0.9985729539564789 \n",
      "\n",
      "Row/Col : \n",
      " fuel_ratio / real_time \n",
      " 0.8287351728838669 \n",
      "\n",
      "Row/Col : \n",
      " profit_margin / real_time \n",
      " 0.9994464924750952 \n",
      "\n",
      "Row/Col : \n",
      " total_amount_flight / real_time \n",
      " 0.974230796063639 \n",
      "\n",
      "Row/Col : \n",
      " bus_occup / bus_seats \n",
      " 0.9999999999999989 \n",
      "\n",
      "Row/Col : \n",
      " eco_occup / bus_seats \n",
      " 0.629616528396075 \n",
      "\n",
      "Row/Col : \n",
      " empty_bus / bus_seats \n",
      " -1.0 \n",
      "\n",
      "Row/Col : \n",
      " occupancy_fl / bus_seats \n",
      " 0.714192479142612 \n",
      "\n",
      "Row/Col : \n",
      " fuel_ratio / bus_seats \n",
      " -0.603227762809632 \n",
      "\n",
      "Row/Col : \n",
      " profit / bus_seats \n",
      " 0.7094534825127207 \n",
      "\n",
      "Row/Col : \n",
      " eco_occup / bus_occup \n",
      " 0.6296165283960758 \n",
      "\n",
      "Row/Col : \n",
      " empty_bus / bus_occup \n",
      " -0.9999999999999989 \n",
      "\n",
      "Row/Col : \n",
      " occupancy_fl / bus_occup \n",
      " 0.7141924791426135 \n",
      "\n",
      "Row/Col : \n",
      " fuel_ratio / bus_occup \n",
      " -0.6032277628096334 \n",
      "\n",
      "Row/Col : \n",
      " profit / bus_occup \n",
      " 0.7094534825127227 \n",
      "\n",
      "Row/Col : \n",
      " total_seats / eco_seats \n",
      " 0.84087886497389 \n",
      "\n",
      "Row/Col : \n",
      " total_in_flight / eco_seats \n",
      " 0.995326224663167 \n",
      "\n",
      "Row/Col : \n",
      " bus_amount / eco_seats \n",
      " 0.8848864702737863 \n",
      "\n",
      "Row/Col : \n",
      " eco_amount / eco_seats \n",
      " 0.927150173431406 \n",
      "\n",
      "Row/Col : \n",
      " fuel_consum_rub / eco_seats \n",
      " 0.8400291206987971 \n",
      "\n",
      "Row/Col : \n",
      " profit_margin / eco_seats \n",
      " 0.8408788649738927 \n",
      "\n",
      "Row/Col : \n",
      " total_amount_flight / eco_seats \n",
      " 0.9284941940970562 \n",
      "\n",
      "Row/Col : \n",
      " empty_bus / eco_occup \n",
      " -0.6296165283960751 \n",
      "\n",
      "Row/Col : \n",
      " empty_eco / eco_occup \n",
      " -0.9739147810403544 \n",
      "\n",
      "Row/Col : \n",
      " occupancy_fl / eco_occup \n",
      " 0.9933097045724139 \n",
      "\n",
      "Row/Col : \n",
      " fuel_ratio / eco_occup \n",
      " -0.7802507912363736 \n",
      "\n",
      "Row/Col : \n",
      " profit / eco_occup \n",
      " 0.7565368171997818 \n",
      "\n",
      "Row/Col : \n",
      " total_in_flight / total_seats \n",
      " 0.8054900037282633 \n",
      "\n",
      "Row/Col : \n",
      " bus_amount / total_seats \n",
      " 0.9098597264240976 \n",
      "\n",
      "Row/Col : \n",
      " eco_amount / total_seats \n",
      " 0.9800149708178365 \n",
      "\n",
      "Row/Col : \n",
      " fuel_consum_rub / total_seats \n",
      " 0.9985569194089371 \n",
      "\n",
      "Row/Col : \n",
      " fuel_ratio / total_seats \n",
      " 0.8248639105449646 \n",
      "\n",
      "Row/Col : \n",
      " total_amount_flight / total_seats \n",
      " 0.9762898292052457 \n",
      "\n",
      "Row/Col : \n",
      " bus_amount / total_in_flight \n",
      " 0.8882675813331478 \n",
      "\n",
      "Row/Col : \n",
      " eco_amount / total_in_flight \n",
      " 0.9003742002793016 \n",
      "\n",
      "Row/Col : \n",
      " fuel_consum_rub / total_in_flight \n",
      " 0.8044335240502423 \n",
      "\n",
      "Row/Col : \n",
      " profit_margin / total_in_flight \n",
      " 0.8054900037282635 \n",
      "\n",
      "Row/Col : \n",
      " profit / total_in_flight \n",
      " 0.6500682795980729 \n",
      "\n",
      "Row/Col : \n",
      " total_amount_flight / total_in_flight \n",
      " 0.907522864794902 \n",
      "\n",
      "Row/Col : \n",
      " occupancy_fl / empty_bus \n",
      " -0.7141924791426121 \n",
      "\n",
      "Row/Col : \n",
      " fuel_ratio / empty_bus \n",
      " 0.6032277628096321 \n",
      "\n",
      "Row/Col : \n",
      " profit / empty_bus \n",
      " -0.7094534825127208 \n",
      "\n",
      "Row/Col : \n",
      " occupancy_fl / empty_eco \n",
      " -0.9650122886225946 \n",
      "\n",
      "Row/Col : \n",
      " fuel_ratio / empty_eco \n",
      " 0.8704958346216325 \n",
      "\n",
      "Row/Col : \n",
      " profit / empty_eco \n",
      " -0.7094306605567511 \n",
      "\n",
      "Row/Col : \n",
      " fuel_ratio / occupancy_fl \n",
      " -0.7907206496067227 \n",
      "\n",
      "Row/Col : \n",
      " profit / occupancy_fl \n",
      " 0.7851451655863267 \n",
      "\n",
      "Row/Col : \n",
      " eco_amount / bus_amount \n",
      " 0.9344093530568687 \n",
      "\n",
      "Row/Col : \n",
      " fuel_consum_rub / bus_amount \n",
      " 0.9068884122463303 \n",
      "\n",
      "Row/Col : \n",
      " profit_margin / bus_amount \n",
      " 0.9098597264240972 \n",
      "\n",
      "Row/Col : \n",
      " total_amount_flight / bus_amount \n",
      " 0.9576108997496275 \n",
      "\n",
      "Row/Col : \n",
      " fuel_consum_rub / eco_amount \n",
      " 0.9786274858641292 \n",
      "\n",
      "Row/Col : \n",
      " fuel_ratio / eco_amount \n",
      " 0.7132130393789148 \n",
      "\n",
      "Row/Col : \n",
      " profit_margin / eco_amount \n",
      " 0.9800149708178372 \n",
      "\n",
      "Row/Col : \n",
      " total_amount_flight / eco_amount \n",
      " 0.9974095766454506 \n",
      "\n",
      "Row/Col : \n",
      " fuel_ratio / fuel_consum_rub \n",
      " 0.8321050417878194 \n",
      "\n",
      "Row/Col : \n",
      " profit_margin / fuel_consum_rub \n",
      " 0.9985569194089379 \n",
      "\n",
      "Row/Col : \n",
      " total_amount_flight / fuel_consum_rub \n",
      " 0.9745677210739164 \n",
      "\n",
      "Row/Col : \n",
      " profit_margin / fuel_ratio \n",
      " 0.8248639105449643 \n",
      "\n",
      "Row/Col : \n",
      " total_amount_flight / fuel_ratio \n",
      " 0.6931948966141886 \n",
      "\n",
      "Row/Col : \n",
      " total_seats / profit_margin \n",
      " 1.0 \n",
      "\n",
      "Row/Col : \n",
      " total_amount_flight / profit_margin \n",
      " 0.9762898292052504 \n",
      "\n"
     ]
    }
   ],
   "source": [
    "df_corr = pd.DataFrame(df_final.corr())\n",
    "help_list=[]\n",
    "for i in df_corr:\n",
    "    for n in df_corr[i]:\n",
    "        if df_corr.index[df_corr[i]== n][0] != i:\n",
    "            if n> 0.6 or n<-0.6:\n",
    "                if n not in help_list:\n",
    "                    help_list.append(n)\n",
    "                    print('Row/Col :','\\n',df_corr.index[df_corr[i]== n][0],'/',i,'\\n', n,'\\n')"
   ]
  },
  {
   "cell_type": "code",
   "execution_count": 818,
   "metadata": {},
   "outputs": [
    {
     "name": "stdout",
     "output_type": "stream",
     "text": [
      "profit / bus_seats \n",
      " 0.7094534825127207 \n",
      "\n",
      "profit / bus_occup \n",
      " 0.7094534825127227 \n",
      "\n",
      "profit / eco_seats \n",
      " 0.5919172114708372 \n",
      "\n",
      "profit / eco_occup \n",
      " 0.7565368171997818 \n",
      "\n",
      "profit / total_in_flight \n",
      " 0.6500682795980729 \n",
      "\n",
      "profit / empty_bus \n",
      " -0.7094534825127208 \n",
      "\n",
      "profit / empty_eco \n",
      " -0.7094306605567511 \n",
      "\n",
      "profit / occupancy_fl \n",
      " 0.7851451655863267 \n",
      "\n",
      "profit / bus_amount \n",
      " 0.4246094726825774 \n",
      "\n",
      "profit / fuel_ratio \n",
      " -0.41774175586398116 \n",
      "\n",
      "profit / profit \n",
      " 1.0 \n",
      "\n"
     ]
    }
   ],
   "source": [
    "df_corr = pd.DataFrame(df_final.corr())\n",
    "for n in df_corr['profit']:\n",
    "    if n> 0.4 or n<-0.4:\n",
    "        print('profit /',df_corr.index[df_corr['profit']== n][0],'\\n', n,'\\n')"
   ]
  },
  {
   "cell_type": "code",
   "execution_count": 836,
   "metadata": {},
   "outputs": [
    {
     "data": {
      "image/png": "[encoded data removed]",
      "text/plain": [
       "<Figure size 882.65x504 with 1 Axes>"
      ]
     },
     "metadata": {},
     "output_type": "display_data"
    }
   ],
   "source": [
    "sns.set_style(\"white\")\n",
    "gridobj = sns.lmplot(x=\"profit\", y=\"occupancy_fl\", data=df_final, hue = 'city_arrival',\n",
    "                     height=7, aspect=1.6, robust=True, palette='tab10', \n",
    "                     scatter_kws=dict(s=60, linewidths=.7, edgecolors='black'))\n",
    "\n",
    "# Decorations\n",
    "gridobj.set(xlim=(df_final.profit.min()-100000, df_final.profit.max()+100000), ylim=(0, 2))\n",
    "plt.title(\"Влияние заполенности на прибыль\", fontsize=20)\n",
    "plt.show()"
   ]
  },
  {
   "cell_type": "code",
   "execution_count": 856,
   "metadata": {},
   "outputs": [
    {
     "data": {
      "image/png": "[encoded data removed]",
      "text/plain": [
       "<Figure size 882.65x504 with 1 Axes>"
      ]
     },
     "metadata": {},
     "output_type": "display_data"
    }
   ],
   "source": [
    "sns.set_style(\"white\")\n",
    "gridobj = sns.lmplot(x=\"total_amount_flight\", y=\"occupancy_fl\",hue = 'city_arrival', data=df_final, \n",
    "                     height=7, aspect=1.6, robust=True, palette='tab10', \n",
    "                     scatter_kws=dict(s=60, linewidths=.7, edgecolors='black'))\n",
    "\n",
    "# Decorations\n",
    "gridobj.set(xlim=(df_final.total_amount_flight.min()-100000, df_final.total_amount_flight.max()+100000), ylim=(0, 2))\n",
    "plt.title(\"Влияние заполенности на выручку\", fontsize=20)\n",
    "plt.axvline(z)\n",
    "plt.text(z+10000,1.5,'Предел прибыльности',rotation=90)\n",
    "plt.axvline(z1)\n",
    "plt.text(z1+10000,1.5,'Предел прибыльности',rotation=90)\n",
    "plt.show()"
   ]
  },
  {
   "cell_type": "code",
   "execution_count": 839,
   "metadata": {},
   "outputs": [
    {
     "data": {
      "image/png": "[encoded data removed]",
      "text/plain": [
       "<Figure size 882.65x504 with 1 Axes>"
      ]
     },
     "metadata": {},
     "output_type": "display_data"
    }
   ],
   "source": [
    "sns.set_style(\"white\")\n",
    "gridobj = sns.lmplot(x=\"total_amount_flight\", y=\"bus_occup\",hue = 'city_arrival', data=df_final, \n",
    "                     height=7, aspect=1.6, robust=True, palette='tab10', \n",
    "                     scatter_kws=dict(s=60, linewidths=.7, edgecolors='black'))\n",
    "\n",
    "# Decorations\n",
    "gridobj.set(xlim=(df_final.total_amount_flight.min()-100000, df_final.total_amount_flight.max()+100000), ylim=(0, 2))\n",
    "plt.title(\"Влияние заполенности бизнес класса на выручку\", fontsize=20)\n",
    "plt.show()"
   ]
  },
  {
   "cell_type": "code",
   "execution_count": 857,
   "metadata": {},
   "outputs": [
    {
     "data": {
      "image/png": "[encoded data removed]",
      "text/plain": [
       "<Figure size 882.65x504 with 1 Axes>"
      ]
     },
     "metadata": {},
     "output_type": "display_data"
    }
   ],
   "source": [
    "sns.set_style(\"white\")\n",
    "gridobj = sns.lmplot(x=\"total_amount_flight\", y=\"eco_occup\", hue='city_arrival', data=df_final,\n",
    "                     height=7, aspect=1.6, robust=True, palette='tab10',\n",
    "                     scatter_kws=dict(s=60, linewidths=.7, edgecolors='black'))\n",
    "z = df_final[df_final['city_arrival'] == 'Moscow'].profit_margin.max()\n",
    "z1 = df_final[df_final['city_arrival'] == 'Belgorod'].profit_margin.max()\n",
    "# Decorations\n",
    "gridobj.set(xlim=(df_final.total_amount_flight.min()-100000,\n",
    "                  df_final.total_amount_flight.max()+100000), ylim=(0, 2))\n",
    "plt.title(\"Влияние заполенности эконом класса на выручку\", fontsize=20)\n",
    "plt.show()"
   ]
  },
  {
   "cell_type": "code",
   "execution_count": 820,
   "metadata": {},
   "outputs": [
    {
     "data": {
      "text/html": [
       "<div>\n",
       "<style scoped>\n",
       "    .dataframe tbody tr th:only-of-type {\n",
       "        vertical-align: middle;\n",
       "    }\n",
       "\n",
       "    .dataframe tbody tr th {\n",
       "        vertical-align: top;\n",
       "    }\n",
       "\n",
       "    .dataframe thead th {\n",
       "        text-align: right;\n",
       "    }\n",
       "</style>\n",
       "<table border=\"1\" class=\"dataframe\">\n",
       "  <thead>\n",
       "    <tr style=\"text-align: right;\">\n",
       "      <th></th>\n",
       "      <th>flight_id</th>\n",
       "      <th>flight_no</th>\n",
       "      <th>month_dep</th>\n",
       "      <th>day_dep</th>\n",
       "      <th>day_name</th>\n",
       "      <th>real_time</th>\n",
       "      <th>arrival_airport</th>\n",
       "      <th>city_arrival</th>\n",
       "      <th>bus_seats</th>\n",
       "      <th>bus_occup</th>\n",
       "      <th>...</th>\n",
       "      <th>empty_bus</th>\n",
       "      <th>empty_eco</th>\n",
       "      <th>occupancy_fl</th>\n",
       "      <th>bus_amount</th>\n",
       "      <th>eco_amount</th>\n",
       "      <th>fuel_consum_rub</th>\n",
       "      <th>fuel_ratio</th>\n",
       "      <th>profit_margin</th>\n",
       "      <th>profit</th>\n",
       "      <th>total_amount_flight</th>\n",
       "    </tr>\n",
       "  </thead>\n",
       "  <tbody>\n",
       "    <tr>\n",
       "      <th>0</th>\n",
       "      <td>136119</td>\n",
       "      <td>PG0252</td>\n",
       "      <td>1</td>\n",
       "      <td>3</td>\n",
       "      <td>1</td>\n",
       "      <td>101</td>\n",
       "      <td>SVO</td>\n",
       "      <td>Moscow</td>\n",
       "      <td>11.0</td>\n",
       "      <td>0.916667</td>\n",
       "      <td>...</td>\n",
       "      <td>1.0</td>\n",
       "      <td>16.0</td>\n",
       "      <td>0.869231</td>\n",
       "      <td>402600.0</td>\n",
       "      <td>1250400.0</td>\n",
       "      <td>213989.676333</td>\n",
       "      <td>0.129455</td>\n",
       "      <td>1527660.0</td>\n",
       "      <td>125340.0</td>\n",
       "      <td>1653000.0</td>\n",
       "    </tr>\n",
       "    <tr>\n",
       "      <th>1</th>\n",
       "      <td>136120</td>\n",
       "      <td>PG0252</td>\n",
       "      <td>2</td>\n",
       "      <td>24</td>\n",
       "      <td>4</td>\n",
       "      <td>99</td>\n",
       "      <td>SVO</td>\n",
       "      <td>Moscow</td>\n",
       "      <td>11.0</td>\n",
       "      <td>0.916667</td>\n",
       "      <td>...</td>\n",
       "      <td>1.0</td>\n",
       "      <td>20.0</td>\n",
       "      <td>0.838462</td>\n",
       "      <td>402600.0</td>\n",
       "      <td>1202800.0</td>\n",
       "      <td>200225.196600</td>\n",
       "      <td>0.124720</td>\n",
       "      <td>1527660.0</td>\n",
       "      <td>77740.0</td>\n",
       "      <td>1605400.0</td>\n",
       "    </tr>\n",
       "    <tr>\n",
       "      <th>2</th>\n",
       "      <td>136122</td>\n",
       "      <td>PG0252</td>\n",
       "      <td>1</td>\n",
       "      <td>8</td>\n",
       "      <td>6</td>\n",
       "      <td>100</td>\n",
       "      <td>SVO</td>\n",
       "      <td>Moscow</td>\n",
       "      <td>10.0</td>\n",
       "      <td>0.833333</td>\n",
       "      <td>...</td>\n",
       "      <td>2.0</td>\n",
       "      <td>31.0</td>\n",
       "      <td>0.746154</td>\n",
       "      <td>366000.0</td>\n",
       "      <td>1065000.0</td>\n",
       "      <td>211870.966667</td>\n",
       "      <td>0.148058</td>\n",
       "      <td>1527660.0</td>\n",
       "      <td>-96660.0</td>\n",
       "      <td>1431000.0</td>\n",
       "    </tr>\n",
       "    <tr>\n",
       "      <th>3</th>\n",
       "      <td>136130</td>\n",
       "      <td>PG0252</td>\n",
       "      <td>2</td>\n",
       "      <td>13</td>\n",
       "      <td>0</td>\n",
       "      <td>99</td>\n",
       "      <td>SVO</td>\n",
       "      <td>Moscow</td>\n",
       "      <td>10.0</td>\n",
       "      <td>0.833333</td>\n",
       "      <td>...</td>\n",
       "      <td>2.0</td>\n",
       "      <td>21.0</td>\n",
       "      <td>0.823077</td>\n",
       "      <td>366000.0</td>\n",
       "      <td>1190600.0</td>\n",
       "      <td>200225.196600</td>\n",
       "      <td>0.128630</td>\n",
       "      <td>1527660.0</td>\n",
       "      <td>28940.0</td>\n",
       "      <td>1556600.0</td>\n",
       "    </tr>\n",
       "    <tr>\n",
       "      <th>4</th>\n",
       "      <td>136131</td>\n",
       "      <td>PG0252</td>\n",
       "      <td>1</td>\n",
       "      <td>28</td>\n",
       "      <td>5</td>\n",
       "      <td>99</td>\n",
       "      <td>SVO</td>\n",
       "      <td>Moscow</td>\n",
       "      <td>12.0</td>\n",
       "      <td>1.000000</td>\n",
       "      <td>...</td>\n",
       "      <td>0.0</td>\n",
       "      <td>6.0</td>\n",
       "      <td>0.953846</td>\n",
       "      <td>439200.0</td>\n",
       "      <td>1373600.0</td>\n",
       "      <td>209752.257000</td>\n",
       "      <td>0.115706</td>\n",
       "      <td>1527660.0</td>\n",
       "      <td>285140.0</td>\n",
       "      <td>1812800.0</td>\n",
       "    </tr>\n",
       "    <tr>\n",
       "      <th>...</th>\n",
       "      <td>...</td>\n",
       "      <td>...</td>\n",
       "      <td>...</td>\n",
       "      <td>...</td>\n",
       "      <td>...</td>\n",
       "      <td>...</td>\n",
       "      <td>...</td>\n",
       "      <td>...</td>\n",
       "      <td>...</td>\n",
       "      <td>...</td>\n",
       "      <td>...</td>\n",
       "      <td>...</td>\n",
       "      <td>...</td>\n",
       "      <td>...</td>\n",
       "      <td>...</td>\n",
       "      <td>...</td>\n",
       "      <td>...</td>\n",
       "      <td>...</td>\n",
       "      <td>...</td>\n",
       "      <td>...</td>\n",
       "      <td>...</td>\n",
       "    </tr>\n",
       "    <tr>\n",
       "      <th>113</th>\n",
       "      <td>136936</td>\n",
       "      <td>PG0480</td>\n",
       "      <td>1</td>\n",
       "      <td>2</td>\n",
       "      <td>0</td>\n",
       "      <td>50</td>\n",
       "      <td>EGO</td>\n",
       "      <td>Belgorod</td>\n",
       "      <td>9.0</td>\n",
       "      <td>0.750000</td>\n",
       "      <td>...</td>\n",
       "      <td>3.0</td>\n",
       "      <td>12.0</td>\n",
       "      <td>0.845361</td>\n",
       "      <td>170100.0</td>\n",
       "      <td>462300.0</td>\n",
       "      <td>69265.508333</td>\n",
       "      <td>0.109528</td>\n",
       "      <td>619893.0</td>\n",
       "      <td>12507.0</td>\n",
       "      <td>632400.0</td>\n",
       "    </tr>\n",
       "    <tr>\n",
       "      <th>114</th>\n",
       "      <td>136937</td>\n",
       "      <td>PG0480</td>\n",
       "      <td>1</td>\n",
       "      <td>3</td>\n",
       "      <td>1</td>\n",
       "      <td>50</td>\n",
       "      <td>EGO</td>\n",
       "      <td>Belgorod</td>\n",
       "      <td>9.0</td>\n",
       "      <td>0.750000</td>\n",
       "      <td>...</td>\n",
       "      <td>3.0</td>\n",
       "      <td>13.0</td>\n",
       "      <td>0.835052</td>\n",
       "      <td>170100.0</td>\n",
       "      <td>456000.0</td>\n",
       "      <td>69265.508333</td>\n",
       "      <td>0.110630</td>\n",
       "      <td>619893.0</td>\n",
       "      <td>6207.0</td>\n",
       "      <td>626100.0</td>\n",
       "    </tr>\n",
       "    <tr>\n",
       "      <th>115</th>\n",
       "      <td>136951</td>\n",
       "      <td>PG0480</td>\n",
       "      <td>2</td>\n",
       "      <td>2</td>\n",
       "      <td>3</td>\n",
       "      <td>49</td>\n",
       "      <td>EGO</td>\n",
       "      <td>Belgorod</td>\n",
       "      <td>12.0</td>\n",
       "      <td>1.000000</td>\n",
       "      <td>...</td>\n",
       "      <td>0.0</td>\n",
       "      <td>7.0</td>\n",
       "      <td>0.927835</td>\n",
       "      <td>226800.0</td>\n",
       "      <td>493800.0</td>\n",
       "      <td>64797.043033</td>\n",
       "      <td>0.089921</td>\n",
       "      <td>619893.0</td>\n",
       "      <td>100707.0</td>\n",
       "      <td>720600.0</td>\n",
       "    </tr>\n",
       "    <tr>\n",
       "      <th>116</th>\n",
       "      <td>136953</td>\n",
       "      <td>PG0480</td>\n",
       "      <td>2</td>\n",
       "      <td>27</td>\n",
       "      <td>0</td>\n",
       "      <td>50</td>\n",
       "      <td>EGO</td>\n",
       "      <td>Belgorod</td>\n",
       "      <td>12.0</td>\n",
       "      <td>1.000000</td>\n",
       "      <td>...</td>\n",
       "      <td>0.0</td>\n",
       "      <td>0.0</td>\n",
       "      <td>1.000000</td>\n",
       "      <td>226800.0</td>\n",
       "      <td>538500.0</td>\n",
       "      <td>66119.431667</td>\n",
       "      <td>0.086397</td>\n",
       "      <td>619893.0</td>\n",
       "      <td>145407.0</td>\n",
       "      <td>765300.0</td>\n",
       "    </tr>\n",
       "    <tr>\n",
       "      <th>117</th>\n",
       "      <td>136956</td>\n",
       "      <td>PG0480</td>\n",
       "      <td>2</td>\n",
       "      <td>4</td>\n",
       "      <td>5</td>\n",
       "      <td>50</td>\n",
       "      <td>EGO</td>\n",
       "      <td>Belgorod</td>\n",
       "      <td>11.0</td>\n",
       "      <td>0.916667</td>\n",
       "      <td>...</td>\n",
       "      <td>1.0</td>\n",
       "      <td>0.0</td>\n",
       "      <td>0.989691</td>\n",
       "      <td>207900.0</td>\n",
       "      <td>538500.0</td>\n",
       "      <td>66119.431667</td>\n",
       "      <td>0.088584</td>\n",
       "      <td>619893.0</td>\n",
       "      <td>126507.0</td>\n",
       "      <td>746400.0</td>\n",
       "    </tr>\n",
       "  </tbody>\n",
       "</table>\n",
       "<p>118 rows × 25 columns</p>\n",
       "</div>"
      ],
      "text/plain": [
       "     flight_id flight_no  month_dep  day_dep  day_name  real_time  \\\n",
       "0       136119    PG0252          1        3         1        101   \n",
       "1       136120    PG0252          2       24         4         99   \n",
       "2       136122    PG0252          1        8         6        100   \n",
       "3       136130    PG0252          2       13         0         99   \n",
       "4       136131    PG0252          1       28         5         99   \n",
       "..         ...       ...        ...      ...       ...        ...   \n",
       "113     136936    PG0480          1        2         0         50   \n",
       "114     136937    PG0480          1        3         1         50   \n",
       "115     136951    PG0480          2        2         3         49   \n",
       "116     136953    PG0480          2       27         0         50   \n",
       "117     136956    PG0480          2        4         5         50   \n",
       "\n",
       "    arrival_airport city_arrival  bus_seats  bus_occup  ...  empty_bus  \\\n",
       "0               SVO       Moscow       11.0   0.916667  ...        1.0   \n",
       "1               SVO       Moscow       11.0   0.916667  ...        1.0   \n",
       "2               SVO       Moscow       10.0   0.833333  ...        2.0   \n",
       "3               SVO       Moscow       10.0   0.833333  ...        2.0   \n",
       "4               SVO       Moscow       12.0   1.000000  ...        0.0   \n",
       "..              ...          ...        ...        ...  ...        ...   \n",
       "113             EGO     Belgorod        9.0   0.750000  ...        3.0   \n",
       "114             EGO     Belgorod        9.0   0.750000  ...        3.0   \n",
       "115             EGO     Belgorod       12.0   1.000000  ...        0.0   \n",
       "116             EGO     Belgorod       12.0   1.000000  ...        0.0   \n",
       "117             EGO     Belgorod       11.0   0.916667  ...        1.0   \n",
       "\n",
       "     empty_eco occupancy_fl  bus_amount  eco_amount  fuel_consum_rub  \\\n",
       "0         16.0     0.869231    402600.0   1250400.0    213989.676333   \n",
       "1         20.0     0.838462    402600.0   1202800.0    200225.196600   \n",
       "2         31.0     0.746154    366000.0   1065000.0    211870.966667   \n",
       "3         21.0     0.823077    366000.0   1190600.0    200225.196600   \n",
       "4          6.0     0.953846    439200.0   1373600.0    209752.257000   \n",
       "..         ...          ...         ...         ...              ...   \n",
       "113       12.0     0.845361    170100.0    462300.0     69265.508333   \n",
       "114       13.0     0.835052    170100.0    456000.0     69265.508333   \n",
       "115        7.0     0.927835    226800.0    493800.0     64797.043033   \n",
       "116        0.0     1.000000    226800.0    538500.0     66119.431667   \n",
       "117        0.0     0.989691    207900.0    538500.0     66119.431667   \n",
       "\n",
       "     fuel_ratio  profit_margin    profit  total_amount_flight  \n",
       "0      0.129455      1527660.0  125340.0            1653000.0  \n",
       "1      0.124720      1527660.0   77740.0            1605400.0  \n",
       "2      0.148058      1527660.0  -96660.0            1431000.0  \n",
       "3      0.128630      1527660.0   28940.0            1556600.0  \n",
       "4      0.115706      1527660.0  285140.0            1812800.0  \n",
       "..          ...            ...       ...                  ...  \n",
       "113    0.109528       619893.0   12507.0             632400.0  \n",
       "114    0.110630       619893.0    6207.0             626100.0  \n",
       "115    0.089921       619893.0  100707.0             720600.0  \n",
       "116    0.086397       619893.0  145407.0             765300.0  \n",
       "117    0.088584       619893.0  126507.0             746400.0  \n",
       "\n",
       "[118 rows x 25 columns]"
      ]
     },
     "execution_count": 820,
     "metadata": {},
     "output_type": "execute_result"
    }
   ],
   "source": [
    "df_final"
   ]
  },
  {
   "cell_type": "markdown",
   "metadata": {},
   "source": [
    "Особых открытий не последовало, но можно отметить, затраты на авиа топливо. <br> Также можно заметить более выраженную зависимость выручки и прибыли по направлению Белгород"
   ]
  },
  {
   "cell_type": "code",
   "execution_count": 597,
   "metadata": {},
   "outputs": [
    {
     "name": "stdout",
     "output_type": "stream",
     "text": [
      "Выручка по направлениям за январь-февраль 2017\n"
     ]
    },
    {
     "data": {
      "image/png": "[encoded data removed]",
      "text/plain": [
       "<Figure size 432x288 with 1 Axes>"
      ]
     },
     "metadata": {},
     "output_type": "display_data"
    }
   ],
   "source": [
    "print('Выручка по направлениям за январь-февраль 2017')\n",
    "labels = list(df_final.groupby('city_arrival')['total_amount_flight'].sum().index)\n",
    "sizes = df_final.groupby('city_arrival')['total_amount_flight'].sum()\n",
    "explode = (0.1, 0.1) \n",
    "fig1, ax1 = plt.subplots()\n",
    "ax1.pie(sizes, explode=explode, labels=labels, autopct='%1.1f%%',\n",
    "        shadow=True, startangle=90,radius=2)\n",
    "plt.show()"
   ]
  },
  {
   "cell_type": "code",
   "execution_count": 654,
   "metadata": {},
   "outputs": [
    {
     "name": "stdout",
     "output_type": "stream",
     "text": [
      "Прибыль по направлениям за январь-февраль 2017\n"
     ]
    },
    {
     "data": {
      "image/png": "[encoded data removed]",
      "text/plain": [
       "<Figure size 432x288 with 1 Axes>"
      ]
     },
     "metadata": {},
     "output_type": "display_data"
    }
   ],
   "source": [
    "print('Прибыль по направлениям за январь-февраль 2017')\n",
    "labels = list(df_final.groupby('city_arrival')['profit'].sum().index)\n",
    "sizes = df_final.groupby('city_arrival')['profit'].sum()\n",
    "explode = (0.1, 0.1) \n",
    "fig1, ax1 = plt.subplots()\n",
    "ax1.pie(sizes, explode=explode, labels=labels, autopct='%1.1f%%',\n",
    "        shadow=True, startangle=90,radius=2)\n",
    "plt.show()"
   ]
  },
  {
   "cell_type": "markdown",
   "metadata": {},
   "source": [
    "# Рассмотрим направления Москва и Белгород"
   ]
  },
  {
   "cell_type": "markdown",
   "metadata": {},
   "source": [
    "## Москва"
   ]
  },
  {
   "cell_type": "code",
   "execution_count": 655,
   "metadata": {},
   "outputs": [],
   "source": [
    "df_m = df_final[df_final['city_arrival'] == 'Moscow']"
   ]
  },
  {
   "cell_type": "code",
   "execution_count": 689,
   "metadata": {},
   "outputs": [
    {
     "name": "stdout",
     "output_type": "stream",
     "text": [
      "Среднее кол-во пассажиров на рейс за январь : 114\n",
      "Рейсы с заполняемостью ниже среднего в январе 15\n",
      "Среднее кол-во пассажиров на рейс за февраль : 112\n",
      "Рейсы с заполняемостью ниже среднего в феврале 16\n"
     ]
    },
    {
     "data": {
      "image/png": "[encoded data removed]",
      "text/plain": [
       "<Figure size 720x720 with 2 Axes>"
      ]
     },
     "metadata": {
      "needs_background": "light"
     },
     "output_type": "display_data"
    }
   ],
   "source": [
    "x = range(1,32)\n",
    "y = df_m.query('month_dep == 1').sort_values(by='day_dep')['total_in_flight']\n",
    "x1 = range(1,29)\n",
    "y1 = df_m.query('month_dep == 2').sort_values(by='day_dep')['total_in_flight']\n",
    "t = df['total_seats'].max()\n",
    "fig, (ax1, ax2) = plt.subplots(2, 1, constrained_layout=True, sharey=True,figsize=(10, 10))\n",
    "ax1.bar(x, y)\n",
    "ax1.set_title('Январь')\n",
    "ax1.set_xlabel('day')\n",
    "ax1.set_ylabel('Кол-во пассажиров')\n",
    "ax1.plot(x,[y.min() for i in x], '--',color='r')\n",
    "ax1.plot(x,[t for i in x], '--',color='g')\n",
    "ax2.bar(x1, y1)\n",
    "ax2.set_xlabel('day')\n",
    "ax2.set_title('Февраль')\n",
    "ax2.set_ylabel('Кол-во пассажиров')\n",
    "ax2.plot(x1,[y1.min() for i in x1], '--',color='r')\n",
    "ax2.plot(x1,[t for i in x1], '--',color='g')\n",
    "fig.suptitle('Пассажиропоток по месяцам', fontsize=16)\n",
    "print('Среднее кол-во пассажиров на рейс за январь :',\n",
    "      round(df_m.query('month_dep == 1').sort_values(by='day_dep')['total_in_flight'].mean()))\n",
    "print('Рейсы с заполняемостью ниже среднего в январе', df_m.query(\n",
    "    'month_dep == 1 & total_in_flight < 114')['flight_id'].nunique())\n",
    "print('Среднее кол-во пассажиров на рейс за февраль :',\n",
    "      round(df_m.query('month_dep == 2').sort_values(by='day_dep')['total_in_flight'].mean()))\n",
    "print('Рейсы с заполняемостью ниже среднего в феврале', df_m.query(\n",
    "    'month_dep == 2 & total_in_flight < 112')['flight_id'].nunique())"
   ]
  },
  {
   "cell_type": "markdown",
   "metadata": {},
   "source": [
    "Половина рейсов имеет заполняемость ниже среднего <br> \n",
    "Посмотрим по классу обслуживания."
   ]
  },
  {
   "cell_type": "code",
   "execution_count": 688,
   "metadata": {},
   "outputs": [
    {
     "name": "stdout",
     "output_type": "stream",
     "text": [
      "Среднее кол-во пассажиров за январь : 11\n",
      "Рейсы с заполняемостью ниже среднего в январе 12\n",
      "Среднее кол-во пассажиров за февраль : 10\n",
      "Рейсы с заполняемостью ниже среднего в феврале 4\n"
     ]
    },
    {
     "data": {
      "image/png": "[encoded data removed]",
      "text/plain": [
       "<Figure size 720x720 with 2 Axes>"
      ]
     },
     "metadata": {
      "needs_background": "light"
     },
     "output_type": "display_data"
    }
   ],
   "source": [
    "x = range(1, 32)\n",
    "y = df_m.query('month_dep == 1').sort_values(by='day_dep')['bus_seats']\n",
    "x1 = range(1, 29)\n",
    "y1 = df_m.query('month_dep == 2').sort_values(by='day_dep')['bus_seats']\n",
    "t = df['bussines_seats'].max()\n",
    "fig, (ax1, ax2) = plt.subplots(\n",
    "    2, 1, constrained_layout=True, sharey=True, figsize=(10, 10))\n",
    "ax1.bar(x, y)\n",
    "ax1.set_title('Январь')\n",
    "ax1.set_xlabel('day')\n",
    "ax1.set_ylabel('Кол-во пассажиров')\n",
    "ax1.plot(x, [y.min() for i in x], '--', color='r')\n",
    "ax1.plot(x, [t for i in x], '--', color='g')\n",
    "ax2.bar(x1, y1)\n",
    "ax2.set_xlabel('day')\n",
    "ax2.set_title('Февраль')\n",
    "ax2.set_ylabel('Кол-во пассажиров')\n",
    "ax2.plot(x1, [y1.min() for i in x1], '--', color='r')\n",
    "ax2.plot(x1, [t for i in x1], '--', color='g')\n",
    "fig.suptitle('Заполняемость в бизнес классе по месяцам', fontsize=16)\n",
    "print('Среднее кол-во пассажиров на рейс за январь :',\n",
    "      round(df_m.query('month_dep == 1').sort_values(by='day_dep')['bus_seats'].mean()))\n",
    "print('Рейсы с заполняемостью ниже среднего в январе', df_m.query(\n",
    "    'month_dep == 1 & bus_seats < 11')['flight_id'].nunique())\n",
    "print('Среднее кол-во пассажиров на рейс за февраль :',\n",
    "      round(df_m.query('month_dep == 2').sort_values(by='day_dep')['bus_seats'].mean()))\n",
    "print('Рейсы с заполняемостью ниже среднего в феврале', df_m.query(\n",
    "    'month_dep == 2 & bus_seats < 10')['flight_id'].nunique())"
   ]
  },
  {
   "cell_type": "code",
   "execution_count": 685,
   "metadata": {},
   "outputs": [
    {
     "name": "stdout",
     "output_type": "stream",
     "text": [
      "Среднее кол-во пассажиров за январь : 103\n",
      "Рейсы с заполняемостью ниже среднего в январе 16\n",
      "Среднее кол-во пассажиров за февраль : 102\n",
      "Рейсы с заполняемостью ниже среднего в феврале 16\n"
     ]
    },
    {
     "data": {
      "image/png": "[encoded data removed]",
      "text/plain": [
       "<Figure size 720x720 with 2 Axes>"
      ]
     },
     "metadata": {
      "needs_background": "light"
     },
     "output_type": "display_data"
    }
   ],
   "source": [
    "x = range(1,32)\n",
    "y = df_m.query('month_dep == 1').sort_values(by='day_dep')['eco_seats']\n",
    "x1 = range(1,29)\n",
    "y1 = df_m.query('month_dep == 2').sort_values(by='day_dep')['eco_seats']\n",
    "t = df['economy_seats'].max()\n",
    "fig, (ax1, ax2) = plt.subplots(2, 1, constrained_layout=True, sharey=True,figsize=(10, 10))\n",
    "ax1.bar(x, y)\n",
    "ax1.set_title('Январь')\n",
    "ax1.set_xlabel('day')\n",
    "ax1.set_ylabel('Кол-во пассажиров')\n",
    "ax1.plot(x,[y.min() for i in x], '--',color='r')\n",
    "ax1.plot(x,[t for i in x], '--',color='g')\n",
    "ax2.bar(x1, y1)\n",
    "ax2.set_xlabel('day')\n",
    "ax2.set_title('Февраль')\n",
    "ax2.set_ylabel('Кол-во пассажиров')\n",
    "ax2.plot(x1,[y1.min() for i in x1], '--',color='r')\n",
    "ax2.plot(x1,[t for i in x1], '--',color='g')\n",
    "fig.suptitle('Заполняемость в эконом классе по месяцам', fontsize=16)\n",
    "print('Среднее кол-во пассажиров на рейс за январь :',\n",
    "      round(df_m.query('month_dep == 1').sort_values(by='day_dep')['eco_seats'].mean()))\n",
    "print('Рейсы с заполняемостью ниже среднего в январе', df_m.query(\n",
    "    'month_dep == 1 & eco_seats < 103')['flight_id'].nunique())\n",
    "print('Среднее кол-во пассажиров на рейс за февраль :',\n",
    "      round(df_m.query('month_dep == 2').sort_values(by='day_dep')['eco_seats'].mean()))\n",
    "print('Рейсы с заполняемостью ниже среднего в феврале', df_m.query(\n",
    "    'month_dep == 2 & eco_seats < 102')['flight_id'].nunique())"
   ]
  },
  {
   "cell_type": "code",
   "execution_count": 421,
   "metadata": {},
   "outputs": [
    {
     "data": {
      "text/plain": [
       "Text(0.5, 0.98, 'Доля заполняемости по месяцам')"
      ]
     },
     "execution_count": 421,
     "metadata": {},
     "output_type": "execute_result"
    },
    {
     "data": {
      "image/png": "[encoded data removed]",
      "text/plain": [
       "<Figure size 720x720 with 2 Axes>"
      ]
     },
     "metadata": {
      "needs_background": "light"
     },
     "output_type": "display_data"
    }
   ],
   "source": [
    "x = range(1,32)\n",
    "y = df_m.query('month_dep == 1').sort_values(by='day_dep')['occupancy_fl']\n",
    "x1 = range(1,29)\n",
    "y1 = df_m.query('month_dep == 2').sort_values(by='day_dep')['occupancy_fl']\n",
    "t = df_m['occupancy_fl'].mean()\n",
    "fig, (ax1, ax2) = plt.subplots(2, 1, constrained_layout=True, sharey=True,figsize=(10, 10))\n",
    "ax1.bar(x, y)\n",
    "ax1.set_title('Январь')\n",
    "ax1.set_xlabel('day')\n",
    "ax1.set_ylabel('Кол-во пассажиров')\n",
    "ax1.plot(x,[y.min() for i in x], '--',color='r')\n",
    "ax1.plot(x,[t for i in x], '--',color='g')\n",
    "ax2.bar(x1, y1)\n",
    "ax2.set_xlabel('day')\n",
    "ax2.set_title('Февраль')\n",
    "ax2.set_ylabel('Кол-во пассажиров')\n",
    "ax2.plot(x1,[y1.min() for i in x1], '--',color='r')\n",
    "ax2.plot(x1,[t for i in x1], '--',color='g')\n",
    "fig.suptitle('Доля заполняемости по месяцам', fontsize=16)"
   ]
  },
  {
   "cell_type": "markdown",
   "metadata": {},
   "source": [
    "В среднем заполняемость по направлению Москва больше 80%, что говорит о востребованности перевозок по данному направлению."
   ]
  },
  {
   "cell_type": "markdown",
   "metadata": {},
   "source": [
    "### Рейсы с выручкой ниже рентабельности"
   ]
  },
  {
   "cell_type": "code",
   "execution_count": 743,
   "metadata": {},
   "outputs": [
    {
     "data": {
      "text/html": [
       "<div>\n",
       "<style scoped>\n",
       "    .dataframe tbody tr th:only-of-type {\n",
       "        vertical-align: middle;\n",
       "    }\n",
       "\n",
       "    .dataframe tbody tr th {\n",
       "        vertical-align: top;\n",
       "    }\n",
       "\n",
       "    .dataframe thead th {\n",
       "        text-align: right;\n",
       "    }\n",
       "</style>\n",
       "<table border=\"1\" class=\"dataframe\">\n",
       "  <thead>\n",
       "    <tr style=\"text-align: right;\">\n",
       "      <th></th>\n",
       "      <th>flight_id</th>\n",
       "      <th>flight_no</th>\n",
       "      <th>real_time</th>\n",
       "      <th>arrival_airport</th>\n",
       "      <th>air_arr_name</th>\n",
       "      <th>city_arrival</th>\n",
       "      <th>bus_seats</th>\n",
       "      <th>eco_seats</th>\n",
       "      <th>bus_amount</th>\n",
       "      <th>eco_amount</th>\n",
       "      <th>...</th>\n",
       "      <th>empty_bus</th>\n",
       "      <th>empty_eco</th>\n",
       "      <th>occupancy_fl</th>\n",
       "      <th>profit_margin</th>\n",
       "      <th>profit</th>\n",
       "      <th>fuel_consum_rub</th>\n",
       "      <th>fuel_ratio</th>\n",
       "      <th>bus_occup</th>\n",
       "      <th>eco_occup</th>\n",
       "      <th>loss</th>\n",
       "    </tr>\n",
       "  </thead>\n",
       "  <tbody>\n",
       "    <tr>\n",
       "      <th>15</th>\n",
       "      <td>136202</td>\n",
       "      <td>PG0252</td>\n",
       "      <td>102</td>\n",
       "      <td>SVO</td>\n",
       "      <td>Sheremetyevo International Airport</td>\n",
       "      <td>Moscow</td>\n",
       "      <td>11.0</td>\n",
       "      <td>89.0</td>\n",
       "      <td>402600.0</td>\n",
       "      <td>1093000.0</td>\n",
       "      <td>...</td>\n",
       "      <td>1.0</td>\n",
       "      <td>29.0</td>\n",
       "      <td>0.769231</td>\n",
       "      <td>1527660.0</td>\n",
       "      <td>-32060.0</td>\n",
       "      <td>216108.386000</td>\n",
       "      <td>0.144496</td>\n",
       "      <td>0.916667</td>\n",
       "      <td>0.754237</td>\n",
       "      <td>32060.0</td>\n",
       "    </tr>\n",
       "    <tr>\n",
       "      <th>2</th>\n",
       "      <td>136122</td>\n",
       "      <td>PG0252</td>\n",
       "      <td>100</td>\n",
       "      <td>SVO</td>\n",
       "      <td>Sheremetyevo International Airport</td>\n",
       "      <td>Moscow</td>\n",
       "      <td>10.0</td>\n",
       "      <td>87.0</td>\n",
       "      <td>366000.0</td>\n",
       "      <td>1065000.0</td>\n",
       "      <td>...</td>\n",
       "      <td>2.0</td>\n",
       "      <td>31.0</td>\n",
       "      <td>0.746154</td>\n",
       "      <td>1527660.0</td>\n",
       "      <td>-96660.0</td>\n",
       "      <td>211870.966667</td>\n",
       "      <td>0.148058</td>\n",
       "      <td>0.833333</td>\n",
       "      <td>0.737288</td>\n",
       "      <td>96660.0</td>\n",
       "    </tr>\n",
       "    <tr>\n",
       "      <th>54</th>\n",
       "      <td>136464</td>\n",
       "      <td>PG0252</td>\n",
       "      <td>100</td>\n",
       "      <td>SVO</td>\n",
       "      <td>Sheremetyevo International Airport</td>\n",
       "      <td>Moscow</td>\n",
       "      <td>7.0</td>\n",
       "      <td>93.0</td>\n",
       "      <td>256200.0</td>\n",
       "      <td>1141800.0</td>\n",
       "      <td>...</td>\n",
       "      <td>5.0</td>\n",
       "      <td>25.0</td>\n",
       "      <td>0.769231</td>\n",
       "      <td>1527660.0</td>\n",
       "      <td>-129660.0</td>\n",
       "      <td>211870.966667</td>\n",
       "      <td>0.151553</td>\n",
       "      <td>0.583333</td>\n",
       "      <td>0.788136</td>\n",
       "      <td>129660.0</td>\n",
       "    </tr>\n",
       "    <tr>\n",
       "      <th>39</th>\n",
       "      <td>136366</td>\n",
       "      <td>PG0252</td>\n",
       "      <td>99</td>\n",
       "      <td>SVO</td>\n",
       "      <td>Sheremetyevo International Airport</td>\n",
       "      <td>Moscow</td>\n",
       "      <td>11.0</td>\n",
       "      <td>92.0</td>\n",
       "      <td>402600.0</td>\n",
       "      <td>1124800.0</td>\n",
       "      <td>...</td>\n",
       "      <td>1.0</td>\n",
       "      <td>26.0</td>\n",
       "      <td>0.792308</td>\n",
       "      <td>1527660.0</td>\n",
       "      <td>-260.0</td>\n",
       "      <td>209752.257000</td>\n",
       "      <td>0.137326</td>\n",
       "      <td>0.916667</td>\n",
       "      <td>0.779661</td>\n",
       "      <td>260.0</td>\n",
       "    </tr>\n",
       "    <tr>\n",
       "      <th>14</th>\n",
       "      <td>136185</td>\n",
       "      <td>PG0252</td>\n",
       "      <td>103</td>\n",
       "      <td>SVO</td>\n",
       "      <td>Sheremetyevo International Airport</td>\n",
       "      <td>Moscow</td>\n",
       "      <td>10.0</td>\n",
       "      <td>94.0</td>\n",
       "      <td>366000.0</td>\n",
       "      <td>1154000.0</td>\n",
       "      <td>...</td>\n",
       "      <td>2.0</td>\n",
       "      <td>24.0</td>\n",
       "      <td>0.800000</td>\n",
       "      <td>1527660.0</td>\n",
       "      <td>-7660.0</td>\n",
       "      <td>218227.095667</td>\n",
       "      <td>0.143570</td>\n",
       "      <td>0.833333</td>\n",
       "      <td>0.796610</td>\n",
       "      <td>7660.0</td>\n",
       "    </tr>\n",
       "    <tr>\n",
       "      <th>28</th>\n",
       "      <td>136282</td>\n",
       "      <td>PG0252</td>\n",
       "      <td>101</td>\n",
       "      <td>SVO</td>\n",
       "      <td>Sheremetyevo International Airport</td>\n",
       "      <td>Moscow</td>\n",
       "      <td>9.0</td>\n",
       "      <td>97.0</td>\n",
       "      <td>329400.0</td>\n",
       "      <td>1189400.0</td>\n",
       "      <td>...</td>\n",
       "      <td>3.0</td>\n",
       "      <td>21.0</td>\n",
       "      <td>0.815385</td>\n",
       "      <td>1527660.0</td>\n",
       "      <td>-8860.0</td>\n",
       "      <td>213989.676333</td>\n",
       "      <td>0.140894</td>\n",
       "      <td>0.750000</td>\n",
       "      <td>0.822034</td>\n",
       "      <td>8860.0</td>\n",
       "    </tr>\n",
       "    <tr>\n",
       "      <th>35</th>\n",
       "      <td>136345</td>\n",
       "      <td>PG0252</td>\n",
       "      <td>100</td>\n",
       "      <td>SVO</td>\n",
       "      <td>Sheremetyevo International Airport</td>\n",
       "      <td>Moscow</td>\n",
       "      <td>8.0</td>\n",
       "      <td>100.0</td>\n",
       "      <td>292800.0</td>\n",
       "      <td>1224800.0</td>\n",
       "      <td>...</td>\n",
       "      <td>4.0</td>\n",
       "      <td>18.0</td>\n",
       "      <td>0.830769</td>\n",
       "      <td>1527660.0</td>\n",
       "      <td>-10060.0</td>\n",
       "      <td>211870.966667</td>\n",
       "      <td>0.139609</td>\n",
       "      <td>0.666667</td>\n",
       "      <td>0.847458</td>\n",
       "      <td>10060.0</td>\n",
       "    </tr>\n",
       "    <tr>\n",
       "      <th>40</th>\n",
       "      <td>136383</td>\n",
       "      <td>PG0252</td>\n",
       "      <td>102</td>\n",
       "      <td>SVO</td>\n",
       "      <td>Sheremetyevo International Airport</td>\n",
       "      <td>Moscow</td>\n",
       "      <td>8.0</td>\n",
       "      <td>98.0</td>\n",
       "      <td>292800.0</td>\n",
       "      <td>1200400.0</td>\n",
       "      <td>...</td>\n",
       "      <td>4.0</td>\n",
       "      <td>20.0</td>\n",
       "      <td>0.815385</td>\n",
       "      <td>1527660.0</td>\n",
       "      <td>-34460.0</td>\n",
       "      <td>216108.386000</td>\n",
       "      <td>0.144728</td>\n",
       "      <td>0.666667</td>\n",
       "      <td>0.830508</td>\n",
       "      <td>34460.0</td>\n",
       "    </tr>\n",
       "    <tr>\n",
       "      <th>57</th>\n",
       "      <td>136485</td>\n",
       "      <td>PG0252</td>\n",
       "      <td>100</td>\n",
       "      <td>SVO</td>\n",
       "      <td>Sheremetyevo International Airport</td>\n",
       "      <td>Moscow</td>\n",
       "      <td>9.0</td>\n",
       "      <td>97.0</td>\n",
       "      <td>329400.0</td>\n",
       "      <td>1190600.0</td>\n",
       "      <td>...</td>\n",
       "      <td>3.0</td>\n",
       "      <td>21.0</td>\n",
       "      <td>0.815385</td>\n",
       "      <td>1527660.0</td>\n",
       "      <td>-7660.0</td>\n",
       "      <td>211870.966667</td>\n",
       "      <td>0.139389</td>\n",
       "      <td>0.750000</td>\n",
       "      <td>0.822034</td>\n",
       "      <td>7660.0</td>\n",
       "    </tr>\n",
       "    <tr>\n",
       "      <th>12</th>\n",
       "      <td>136178</td>\n",
       "      <td>PG0252</td>\n",
       "      <td>99</td>\n",
       "      <td>SVO</td>\n",
       "      <td>Sheremetyevo International Airport</td>\n",
       "      <td>Moscow</td>\n",
       "      <td>9.0</td>\n",
       "      <td>90.0</td>\n",
       "      <td>329400.0</td>\n",
       "      <td>1105200.0</td>\n",
       "      <td>...</td>\n",
       "      <td>3.0</td>\n",
       "      <td>28.0</td>\n",
       "      <td>0.761538</td>\n",
       "      <td>1527660.0</td>\n",
       "      <td>-93060.0</td>\n",
       "      <td>209752.257000</td>\n",
       "      <td>0.146210</td>\n",
       "      <td>0.750000</td>\n",
       "      <td>0.762712</td>\n",
       "      <td>93060.0</td>\n",
       "    </tr>\n",
       "    <tr>\n",
       "      <th>58</th>\n",
       "      <td>136486</td>\n",
       "      <td>PG0252</td>\n",
       "      <td>101</td>\n",
       "      <td>SVO</td>\n",
       "      <td>Sheremetyevo International Airport</td>\n",
       "      <td>Moscow</td>\n",
       "      <td>8.0</td>\n",
       "      <td>99.0</td>\n",
       "      <td>292800.0</td>\n",
       "      <td>1212600.0</td>\n",
       "      <td>...</td>\n",
       "      <td>4.0</td>\n",
       "      <td>19.0</td>\n",
       "      <td>0.823077</td>\n",
       "      <td>1527660.0</td>\n",
       "      <td>-22260.0</td>\n",
       "      <td>204270.150067</td>\n",
       "      <td>0.135692</td>\n",
       "      <td>0.666667</td>\n",
       "      <td>0.838983</td>\n",
       "      <td>22260.0</td>\n",
       "    </tr>\n",
       "    <tr>\n",
       "      <th>38</th>\n",
       "      <td>136360</td>\n",
       "      <td>PG0252</td>\n",
       "      <td>100</td>\n",
       "      <td>SVO</td>\n",
       "      <td>Sheremetyevo International Airport</td>\n",
       "      <td>Moscow</td>\n",
       "      <td>11.0</td>\n",
       "      <td>86.0</td>\n",
       "      <td>402600.0</td>\n",
       "      <td>1052800.0</td>\n",
       "      <td>...</td>\n",
       "      <td>1.0</td>\n",
       "      <td>32.0</td>\n",
       "      <td>0.746154</td>\n",
       "      <td>1527660.0</td>\n",
       "      <td>-72260.0</td>\n",
       "      <td>202247.673333</td>\n",
       "      <td>0.138964</td>\n",
       "      <td>0.916667</td>\n",
       "      <td>0.728814</td>\n",
       "      <td>72260.0</td>\n",
       "    </tr>\n",
       "    <tr>\n",
       "      <th>21</th>\n",
       "      <td>136250</td>\n",
       "      <td>PG0252</td>\n",
       "      <td>101</td>\n",
       "      <td>SVO</td>\n",
       "      <td>Sheremetyevo International Airport</td>\n",
       "      <td>Moscow</td>\n",
       "      <td>8.0</td>\n",
       "      <td>91.0</td>\n",
       "      <td>292800.0</td>\n",
       "      <td>1115000.0</td>\n",
       "      <td>...</td>\n",
       "      <td>4.0</td>\n",
       "      <td>27.0</td>\n",
       "      <td>0.761538</td>\n",
       "      <td>1527660.0</td>\n",
       "      <td>-119860.0</td>\n",
       "      <td>204270.150067</td>\n",
       "      <td>0.145099</td>\n",
       "      <td>0.666667</td>\n",
       "      <td>0.771186</td>\n",
       "      <td>119860.0</td>\n",
       "    </tr>\n",
       "    <tr>\n",
       "      <th>16</th>\n",
       "      <td>136204</td>\n",
       "      <td>PG0252</td>\n",
       "      <td>100</td>\n",
       "      <td>SVO</td>\n",
       "      <td>Sheremetyevo International Airport</td>\n",
       "      <td>Moscow</td>\n",
       "      <td>6.0</td>\n",
       "      <td>101.0</td>\n",
       "      <td>219600.0</td>\n",
       "      <td>1238200.0</td>\n",
       "      <td>...</td>\n",
       "      <td>6.0</td>\n",
       "      <td>17.0</td>\n",
       "      <td>0.823077</td>\n",
       "      <td>1527660.0</td>\n",
       "      <td>-69860.0</td>\n",
       "      <td>202247.673333</td>\n",
       "      <td>0.138735</td>\n",
       "      <td>0.500000</td>\n",
       "      <td>0.855932</td>\n",
       "      <td>69860.0</td>\n",
       "    </tr>\n",
       "  </tbody>\n",
       "</table>\n",
       "<p>14 rows × 30 columns</p>\n",
       "</div>"
      ],
      "text/plain": [
       "    flight_id flight_no  real_time arrival_airport  \\\n",
       "15     136202    PG0252        102             SVO   \n",
       "2      136122    PG0252        100             SVO   \n",
       "54     136464    PG0252        100             SVO   \n",
       "39     136366    PG0252         99             SVO   \n",
       "14     136185    PG0252        103             SVO   \n",
       "28     136282    PG0252        101             SVO   \n",
       "35     136345    PG0252        100             SVO   \n",
       "40     136383    PG0252        102             SVO   \n",
       "57     136485    PG0252        100             SVO   \n",
       "12     136178    PG0252         99             SVO   \n",
       "58     136486    PG0252        101             SVO   \n",
       "38     136360    PG0252        100             SVO   \n",
       "21     136250    PG0252        101             SVO   \n",
       "16     136204    PG0252        100             SVO   \n",
       "\n",
       "                          air_arr_name city_arrival  bus_seats  eco_seats  \\\n",
       "15  Sheremetyevo International Airport       Moscow       11.0       89.0   \n",
       "2   Sheremetyevo International Airport       Moscow       10.0       87.0   \n",
       "54  Sheremetyevo International Airport       Moscow        7.0       93.0   \n",
       "39  Sheremetyevo International Airport       Moscow       11.0       92.0   \n",
       "14  Sheremetyevo International Airport       Moscow       10.0       94.0   \n",
       "28  Sheremetyevo International Airport       Moscow        9.0       97.0   \n",
       "35  Sheremetyevo International Airport       Moscow        8.0      100.0   \n",
       "40  Sheremetyevo International Airport       Moscow        8.0       98.0   \n",
       "57  Sheremetyevo International Airport       Moscow        9.0       97.0   \n",
       "12  Sheremetyevo International Airport       Moscow        9.0       90.0   \n",
       "58  Sheremetyevo International Airport       Moscow        8.0       99.0   \n",
       "38  Sheremetyevo International Airport       Moscow       11.0       86.0   \n",
       "21  Sheremetyevo International Airport       Moscow        8.0       91.0   \n",
       "16  Sheremetyevo International Airport       Moscow        6.0      101.0   \n",
       "\n",
       "    bus_amount  eco_amount  ...  empty_bus empty_eco occupancy_fl  \\\n",
       "15    402600.0   1093000.0  ...        1.0      29.0     0.769231   \n",
       "2     366000.0   1065000.0  ...        2.0      31.0     0.746154   \n",
       "54    256200.0   1141800.0  ...        5.0      25.0     0.769231   \n",
       "39    402600.0   1124800.0  ...        1.0      26.0     0.792308   \n",
       "14    366000.0   1154000.0  ...        2.0      24.0     0.800000   \n",
       "28    329400.0   1189400.0  ...        3.0      21.0     0.815385   \n",
       "35    292800.0   1224800.0  ...        4.0      18.0     0.830769   \n",
       "40    292800.0   1200400.0  ...        4.0      20.0     0.815385   \n",
       "57    329400.0   1190600.0  ...        3.0      21.0     0.815385   \n",
       "12    329400.0   1105200.0  ...        3.0      28.0     0.761538   \n",
       "58    292800.0   1212600.0  ...        4.0      19.0     0.823077   \n",
       "38    402600.0   1052800.0  ...        1.0      32.0     0.746154   \n",
       "21    292800.0   1115000.0  ...        4.0      27.0     0.761538   \n",
       "16    219600.0   1238200.0  ...        6.0      17.0     0.823077   \n",
       "\n",
       "    profit_margin    profit  fuel_consum_rub  fuel_ratio  bus_occup  \\\n",
       "15      1527660.0  -32060.0    216108.386000    0.144496   0.916667   \n",
       "2       1527660.0  -96660.0    211870.966667    0.148058   0.833333   \n",
       "54      1527660.0 -129660.0    211870.966667    0.151553   0.583333   \n",
       "39      1527660.0    -260.0    209752.257000    0.137326   0.916667   \n",
       "14      1527660.0   -7660.0    218227.095667    0.143570   0.833333   \n",
       "28      1527660.0   -8860.0    213989.676333    0.140894   0.750000   \n",
       "35      1527660.0  -10060.0    211870.966667    0.139609   0.666667   \n",
       "40      1527660.0  -34460.0    216108.386000    0.144728   0.666667   \n",
       "57      1527660.0   -7660.0    211870.966667    0.139389   0.750000   \n",
       "12      1527660.0  -93060.0    209752.257000    0.146210   0.750000   \n",
       "58      1527660.0  -22260.0    204270.150067    0.135692   0.666667   \n",
       "38      1527660.0  -72260.0    202247.673333    0.138964   0.916667   \n",
       "21      1527660.0 -119860.0    204270.150067    0.145099   0.666667   \n",
       "16      1527660.0  -69860.0    202247.673333    0.138735   0.500000   \n",
       "\n",
       "    eco_occup      loss  \n",
       "15   0.754237   32060.0  \n",
       "2    0.737288   96660.0  \n",
       "54   0.788136  129660.0  \n",
       "39   0.779661     260.0  \n",
       "14   0.796610    7660.0  \n",
       "28   0.822034    8860.0  \n",
       "35   0.847458   10060.0  \n",
       "40   0.830508   34460.0  \n",
       "57   0.822034    7660.0  \n",
       "12   0.762712   93060.0  \n",
       "58   0.838983   22260.0  \n",
       "38   0.728814   72260.0  \n",
       "21   0.771186  119860.0  \n",
       "16   0.855932   69860.0  \n",
       "\n",
       "[14 rows x 30 columns]"
      ]
     },
     "execution_count": 743,
     "metadata": {},
     "output_type": "execute_result"
    }
   ],
   "source": [
    "df_problem[df_problem['city_arrival'] == 'Moscow'].sort_values(by=['month_dep','day_dep'])"
   ]
  },
  {
   "cell_type": "code",
   "execution_count": 698,
   "metadata": {},
   "outputs": [
    {
     "name": "stderr",
     "output_type": "stream",
     "text": [
      "/Users/evgeny/opt/anaconda3/lib/python3.8/site-packages/seaborn/_decorators.py:36: FutureWarning: Pass the following variable as a keyword arg: x. From version 0.12, the only valid positional argument will be `data`, and passing other arguments without an explicit keyword will result in an error or misinterpretation.\n",
      "  warnings.warn(\n"
     ]
    },
    {
     "data": {
      "text/plain": [
       "<AxesSubplot:>"
      ]
     },
     "execution_count": 698,
     "metadata": {},
     "output_type": "execute_result"
    },
    {
     "data": {
      "image/png": "[encoded data removed]",
      "text/plain": [
       "<Figure size 432x288 with 1 Axes>"
      ]
     },
     "metadata": {
      "needs_background": "light"
     },
     "output_type": "display_data"
    }
   ],
   "source": [
    "df_problem[df_problem['city_arrival'] == 'Moscow'].sort_values(by=['month_dep','day_dep'])\n",
    "sns.boxplot(df_problem[df_problem['city_arrival'] == 'Moscow']['profit_margin']-df_problem[df_problem['city_arrival'] == 'Moscow']['total_amount_flight'])"
   ]
  },
  {
   "cell_type": "markdown",
   "metadata": {},
   "source": [
    "### Наиболее убыточные рейсы"
   ]
  },
  {
   "cell_type": "code",
   "execution_count": 747,
   "metadata": {},
   "outputs": [
    {
     "name": "stderr",
     "output_type": "stream",
     "text": [
      "<ipython-input-747-1cb422a2ba3e>:1: SettingWithCopyWarning: \n",
      "A value is trying to be set on a copy of a slice from a DataFrame.\n",
      "Try using .loc[row_indexer,col_indexer] = value instead\n",
      "\n",
      "See the caveats in the documentation: https://pandas.pydata.org/pandas-docs/stable/user_guide/indexing.html#returning-a-view-versus-a-copy\n",
      "  df_problem['loss'] = df_problem['profit_margin']- df_problem['total_amount_flight']\n"
     ]
    },
    {
     "data": {
      "text/html": [
       "<div>\n",
       "<style scoped>\n",
       "    .dataframe tbody tr th:only-of-type {\n",
       "        vertical-align: middle;\n",
       "    }\n",
       "\n",
       "    .dataframe tbody tr th {\n",
       "        vertical-align: top;\n",
       "    }\n",
       "\n",
       "    .dataframe thead th {\n",
       "        text-align: right;\n",
       "    }\n",
       "</style>\n",
       "<table border=\"1\" class=\"dataframe\">\n",
       "  <thead>\n",
       "    <tr style=\"text-align: right;\">\n",
       "      <th></th>\n",
       "      <th>flight_id</th>\n",
       "      <th>flight_no</th>\n",
       "      <th>real_time</th>\n",
       "      <th>arrival_airport</th>\n",
       "      <th>air_arr_name</th>\n",
       "      <th>city_arrival</th>\n",
       "      <th>bus_seats</th>\n",
       "      <th>eco_seats</th>\n",
       "      <th>bus_amount</th>\n",
       "      <th>eco_amount</th>\n",
       "      <th>...</th>\n",
       "      <th>empty_bus</th>\n",
       "      <th>empty_eco</th>\n",
       "      <th>occupancy_fl</th>\n",
       "      <th>profit_margin</th>\n",
       "      <th>profit</th>\n",
       "      <th>fuel_consum_rub</th>\n",
       "      <th>fuel_ratio</th>\n",
       "      <th>bus_occup</th>\n",
       "      <th>eco_occup</th>\n",
       "      <th>loss</th>\n",
       "    </tr>\n",
       "  </thead>\n",
       "  <tbody>\n",
       "    <tr>\n",
       "      <th>2</th>\n",
       "      <td>136122</td>\n",
       "      <td>PG0252</td>\n",
       "      <td>100</td>\n",
       "      <td>SVO</td>\n",
       "      <td>Sheremetyevo International Airport</td>\n",
       "      <td>Moscow</td>\n",
       "      <td>10.0</td>\n",
       "      <td>87.0</td>\n",
       "      <td>366000.0</td>\n",
       "      <td>1065000.0</td>\n",
       "      <td>...</td>\n",
       "      <td>2.0</td>\n",
       "      <td>31.0</td>\n",
       "      <td>0.746154</td>\n",
       "      <td>1527660.0</td>\n",
       "      <td>-96660.0</td>\n",
       "      <td>211870.966667</td>\n",
       "      <td>0.148058</td>\n",
       "      <td>0.833333</td>\n",
       "      <td>0.737288</td>\n",
       "      <td>96660.0</td>\n",
       "    </tr>\n",
       "    <tr>\n",
       "      <th>12</th>\n",
       "      <td>136178</td>\n",
       "      <td>PG0252</td>\n",
       "      <td>99</td>\n",
       "      <td>SVO</td>\n",
       "      <td>Sheremetyevo International Airport</td>\n",
       "      <td>Moscow</td>\n",
       "      <td>9.0</td>\n",
       "      <td>90.0</td>\n",
       "      <td>329400.0</td>\n",
       "      <td>1105200.0</td>\n",
       "      <td>...</td>\n",
       "      <td>3.0</td>\n",
       "      <td>28.0</td>\n",
       "      <td>0.761538</td>\n",
       "      <td>1527660.0</td>\n",
       "      <td>-93060.0</td>\n",
       "      <td>209752.257000</td>\n",
       "      <td>0.146210</td>\n",
       "      <td>0.750000</td>\n",
       "      <td>0.762712</td>\n",
       "      <td>93060.0</td>\n",
       "    </tr>\n",
       "    <tr>\n",
       "      <th>21</th>\n",
       "      <td>136250</td>\n",
       "      <td>PG0252</td>\n",
       "      <td>101</td>\n",
       "      <td>SVO</td>\n",
       "      <td>Sheremetyevo International Airport</td>\n",
       "      <td>Moscow</td>\n",
       "      <td>8.0</td>\n",
       "      <td>91.0</td>\n",
       "      <td>292800.0</td>\n",
       "      <td>1115000.0</td>\n",
       "      <td>...</td>\n",
       "      <td>4.0</td>\n",
       "      <td>27.0</td>\n",
       "      <td>0.761538</td>\n",
       "      <td>1527660.0</td>\n",
       "      <td>-119860.0</td>\n",
       "      <td>204270.150067</td>\n",
       "      <td>0.145099</td>\n",
       "      <td>0.666667</td>\n",
       "      <td>0.771186</td>\n",
       "      <td>119860.0</td>\n",
       "    </tr>\n",
       "    <tr>\n",
       "      <th>54</th>\n",
       "      <td>136464</td>\n",
       "      <td>PG0252</td>\n",
       "      <td>100</td>\n",
       "      <td>SVO</td>\n",
       "      <td>Sheremetyevo International Airport</td>\n",
       "      <td>Moscow</td>\n",
       "      <td>7.0</td>\n",
       "      <td>93.0</td>\n",
       "      <td>256200.0</td>\n",
       "      <td>1141800.0</td>\n",
       "      <td>...</td>\n",
       "      <td>5.0</td>\n",
       "      <td>25.0</td>\n",
       "      <td>0.769231</td>\n",
       "      <td>1527660.0</td>\n",
       "      <td>-129660.0</td>\n",
       "      <td>211870.966667</td>\n",
       "      <td>0.151553</td>\n",
       "      <td>0.583333</td>\n",
       "      <td>0.788136</td>\n",
       "      <td>129660.0</td>\n",
       "    </tr>\n",
       "  </tbody>\n",
       "</table>\n",
       "<p>4 rows × 30 columns</p>\n",
       "</div>"
      ],
      "text/plain": [
       "    flight_id flight_no  real_time arrival_airport  \\\n",
       "2      136122    PG0252        100             SVO   \n",
       "12     136178    PG0252         99             SVO   \n",
       "21     136250    PG0252        101             SVO   \n",
       "54     136464    PG0252        100             SVO   \n",
       "\n",
       "                          air_arr_name city_arrival  bus_seats  eco_seats  \\\n",
       "2   Sheremetyevo International Airport       Moscow       10.0       87.0   \n",
       "12  Sheremetyevo International Airport       Moscow        9.0       90.0   \n",
       "21  Sheremetyevo International Airport       Moscow        8.0       91.0   \n",
       "54  Sheremetyevo International Airport       Moscow        7.0       93.0   \n",
       "\n",
       "    bus_amount  eco_amount  ...  empty_bus empty_eco occupancy_fl  \\\n",
       "2     366000.0   1065000.0  ...        2.0      31.0     0.746154   \n",
       "12    329400.0   1105200.0  ...        3.0      28.0     0.761538   \n",
       "21    292800.0   1115000.0  ...        4.0      27.0     0.761538   \n",
       "54    256200.0   1141800.0  ...        5.0      25.0     0.769231   \n",
       "\n",
       "    profit_margin    profit  fuel_consum_rub  fuel_ratio  bus_occup  \\\n",
       "2       1527660.0  -96660.0    211870.966667    0.148058   0.833333   \n",
       "12      1527660.0  -93060.0    209752.257000    0.146210   0.750000   \n",
       "21      1527660.0 -119860.0    204270.150067    0.145099   0.666667   \n",
       "54      1527660.0 -129660.0    211870.966667    0.151553   0.583333   \n",
       "\n",
       "    eco_occup      loss  \n",
       "2    0.737288   96660.0  \n",
       "12   0.762712   93060.0  \n",
       "21   0.771186  119860.0  \n",
       "54   0.788136  129660.0  \n",
       "\n",
       "[4 rows x 30 columns]"
      ]
     },
     "metadata": {},
     "output_type": "display_data"
    },
    {
     "name": "stdout",
     "output_type": "stream",
     "text": [
      "Всего убытков : 439240.0\n"
     ]
    }
   ],
   "source": [
    "df_problem['loss'] = df_problem['profit_margin']- df_problem['total_amount_flight']\n",
    "display(df_problem[df_problem['city_arrival'] == 'Moscow'].query('loss > 80000'))\n",
    "print( 'Всего убытков :',df_problem[df_problem['city_arrival'] == 'Moscow'].query('loss > 80000')['loss'].sum())"
   ]
  },
  {
   "cell_type": "code",
   "execution_count": 871,
   "metadata": {},
   "outputs": [
    {
     "name": "stdout",
     "output_type": "stream",
     "text": [
      "Убыточные рейсы за январь-февраль 2017\n"
     ]
    },
    {
     "data": {
      "image/png": "[encoded data removed]",
      "text/plain": [
       "<Figure size 1080x720 with 1 Axes>"
      ]
     },
     "metadata": {},
     "output_type": "display_data"
    }
   ],
   "source": [
    "print('Убыточные рейсы за январь-февраль 2017')\n",
    "labels = ['Убыточные','Прибыльные']\n",
    "sizes = [14,59-14]\n",
    "explode = (0.1, 0.1) \n",
    "fig1, ax1 = plt.subplots()\n",
    "ax1.pie(sizes, explode=explode, labels=labels, autopct='%1.1f%%',\n",
    "        shadow=True, startangle=90,radius=1)\n",
    "plt.show()"
   ]
  },
  {
   "cell_type": "code",
   "execution_count": 867,
   "metadata": {},
   "outputs": [
    {
     "name": "stdout",
     "output_type": "stream",
     "text": [
      "Доля выручки Анапа - Москва по классам обслуживания за январь-февраль 2017\n"
     ]
    },
    {
     "data": {
      "image/png": "[encoded data removed]",
      "text/plain": [
       "<Figure size 1080x720 with 1 Axes>"
      ]
     },
     "metadata": {},
     "output_type": "display_data"
    }
   ],
   "source": [
    "print('Доля выручки Анапа - Москва по классам обслуживания за январь-февраль 2017')\n",
    "labels = ['Buisnes','Econom']\n",
    "sizes = [df_m['bus_amount'].sum(),df_m['eco_amount'].sum()]\n",
    "explode = (0.1, 0.1) \n",
    "fig1, ax1 = plt.subplots()\n",
    "ax1.pie(sizes, explode=explode, labels=labels, autopct='%1.1f%%',\n",
    "        shadow=True, startangle=90,radius=1)\n",
    "plt.show()"
   ]
  },
  {
   "cell_type": "code",
   "execution_count": null,
   "metadata": {},
   "outputs": [],
   "source": []
  },
  {
   "cell_type": "code",
   "execution_count": 755,
   "metadata": {},
   "outputs": [
    {
     "data": {
      "text/plain": [
       "-996.0"
      ]
     },
     "execution_count": 755,
     "metadata": {},
     "output_type": "execute_result"
    }
   ],
   "source": [
    "df_final[df_final['city_arrival'] == 'Moscow']['total_in_flight'].sum() - 59*130"
   ]
  },
  {
   "cell_type": "code",
   "execution_count": 756,
   "metadata": {},
   "outputs": [
    {
     "data": {
      "text/plain": [
       "-88.0"
      ]
     },
     "execution_count": 756,
     "metadata": {},
     "output_type": "execute_result"
    }
   ],
   "source": [
    "df_final[df_final['city_arrival'] == 'Moscow']['bus_seats'].sum() - 59*12"
   ]
  },
  {
   "cell_type": "code",
   "execution_count": 758,
   "metadata": {},
   "outputs": [
    {
     "data": {
      "text/plain": [
       "-908.0"
      ]
     },
     "execution_count": 758,
     "metadata": {},
     "output_type": "execute_result"
    }
   ],
   "source": [
    "df_final[df_final['city_arrival'] == 'Moscow']['eco_seats'].sum() - 59*118"
   ]
  },
  {
   "cell_type": "code",
   "execution_count": 881,
   "metadata": {},
   "outputs": [
    {
     "data": {
      "text/html": [
       "<div>\n",
       "<style scoped>\n",
       "    .dataframe tbody tr th:only-of-type {\n",
       "        vertical-align: middle;\n",
       "    }\n",
       "\n",
       "    .dataframe tbody tr th {\n",
       "        vertical-align: top;\n",
       "    }\n",
       "\n",
       "    .dataframe thead th {\n",
       "        text-align: right;\n",
       "    }\n",
       "</style>\n",
       "<table border=\"1\" class=\"dataframe\">\n",
       "  <thead>\n",
       "    <tr style=\"text-align: right;\">\n",
       "      <th></th>\n",
       "      <th>flight_id</th>\n",
       "      <th>month_dep</th>\n",
       "      <th>day_dep</th>\n",
       "      <th>day_name</th>\n",
       "      <th>loss</th>\n",
       "    </tr>\n",
       "  </thead>\n",
       "  <tbody>\n",
       "    <tr>\n",
       "      <th>15</th>\n",
       "      <td>136202</td>\n",
       "      <td>1</td>\n",
       "      <td>5</td>\n",
       "      <td>3</td>\n",
       "      <td>32060.0</td>\n",
       "    </tr>\n",
       "    <tr>\n",
       "      <th>2</th>\n",
       "      <td>136122</td>\n",
       "      <td>1</td>\n",
       "      <td>8</td>\n",
       "      <td>6</td>\n",
       "      <td>96660.0</td>\n",
       "    </tr>\n",
       "    <tr>\n",
       "      <th>54</th>\n",
       "      <td>136464</td>\n",
       "      <td>1</td>\n",
       "      <td>9</td>\n",
       "      <td>0</td>\n",
       "      <td>129660.0</td>\n",
       "    </tr>\n",
       "    <tr>\n",
       "      <th>39</th>\n",
       "      <td>136366</td>\n",
       "      <td>1</td>\n",
       "      <td>11</td>\n",
       "      <td>2</td>\n",
       "      <td>260.0</td>\n",
       "    </tr>\n",
       "    <tr>\n",
       "      <th>14</th>\n",
       "      <td>136185</td>\n",
       "      <td>1</td>\n",
       "      <td>14</td>\n",
       "      <td>5</td>\n",
       "      <td>7660.0</td>\n",
       "    </tr>\n",
       "    <tr>\n",
       "      <th>28</th>\n",
       "      <td>136282</td>\n",
       "      <td>1</td>\n",
       "      <td>16</td>\n",
       "      <td>0</td>\n",
       "      <td>8860.0</td>\n",
       "    </tr>\n",
       "    <tr>\n",
       "      <th>35</th>\n",
       "      <td>136345</td>\n",
       "      <td>1</td>\n",
       "      <td>24</td>\n",
       "      <td>1</td>\n",
       "      <td>10060.0</td>\n",
       "    </tr>\n",
       "    <tr>\n",
       "      <th>40</th>\n",
       "      <td>136383</td>\n",
       "      <td>1</td>\n",
       "      <td>25</td>\n",
       "      <td>2</td>\n",
       "      <td>34460.0</td>\n",
       "    </tr>\n",
       "    <tr>\n",
       "      <th>57</th>\n",
       "      <td>136485</td>\n",
       "      <td>1</td>\n",
       "      <td>27</td>\n",
       "      <td>4</td>\n",
       "      <td>7660.0</td>\n",
       "    </tr>\n",
       "    <tr>\n",
       "      <th>12</th>\n",
       "      <td>136178</td>\n",
       "      <td>1</td>\n",
       "      <td>29</td>\n",
       "      <td>6</td>\n",
       "      <td>93060.0</td>\n",
       "    </tr>\n",
       "    <tr>\n",
       "      <th>58</th>\n",
       "      <td>136486</td>\n",
       "      <td>2</td>\n",
       "      <td>2</td>\n",
       "      <td>3</td>\n",
       "      <td>22260.0</td>\n",
       "    </tr>\n",
       "    <tr>\n",
       "      <th>38</th>\n",
       "      <td>136360</td>\n",
       "      <td>2</td>\n",
       "      <td>5</td>\n",
       "      <td>6</td>\n",
       "      <td>72260.0</td>\n",
       "    </tr>\n",
       "    <tr>\n",
       "      <th>21</th>\n",
       "      <td>136250</td>\n",
       "      <td>2</td>\n",
       "      <td>8</td>\n",
       "      <td>2</td>\n",
       "      <td>119860.0</td>\n",
       "    </tr>\n",
       "    <tr>\n",
       "      <th>16</th>\n",
       "      <td>136204</td>\n",
       "      <td>2</td>\n",
       "      <td>23</td>\n",
       "      <td>3</td>\n",
       "      <td>69860.0</td>\n",
       "    </tr>\n",
       "  </tbody>\n",
       "</table>\n",
       "</div>"
      ],
      "text/plain": [
       "    flight_id  month_dep  day_dep  day_name      loss\n",
       "15     136202          1        5         3   32060.0\n",
       "2      136122          1        8         6   96660.0\n",
       "54     136464          1        9         0  129660.0\n",
       "39     136366          1       11         2     260.0\n",
       "14     136185          1       14         5    7660.0\n",
       "28     136282          1       16         0    8860.0\n",
       "35     136345          1       24         1   10060.0\n",
       "40     136383          1       25         2   34460.0\n",
       "57     136485          1       27         4    7660.0\n",
       "12     136178          1       29         6   93060.0\n",
       "58     136486          2        2         3   22260.0\n",
       "38     136360          2        5         6   72260.0\n",
       "21     136250          2        8         2  119860.0\n",
       "16     136204          2       23         3   69860.0"
      ]
     },
     "execution_count": 881,
     "metadata": {},
     "output_type": "execute_result"
    }
   ],
   "source": [
    "# Список убыточных рейсов по ID и дате\n",
    "df_problem[df_problem['city_arrival'] == 'Moscow'].sort_values(\n",
    "    by=['month_dep', 'day_dep'])[['flight_id','month_dep', 'day_dep', 'day_name','loss']]"
   ]
  },
  {
   "cell_type": "markdown",
   "metadata": {},
   "source": [
    "### Итог по Москве"
   ]
  },
  {
   "cell_type": "markdown",
   "metadata": {},
   "source": [
    "1. За январь и февраль услугами авиакомпании по направлению Москва(Шереметьево), воспользовалось 6674 пассажиров, осуществленно 59 рейсов.\n",
    "2. Рейсы осуществляются ежедневно самолетом модели Boeing 737-300 с максимальной загрузкой 130 пассажиров,средняя заполняемость 87%.\n",
    "3. Общая выручка по направлению 20 682 600.0 руб\n",
    "4. По относительной границе прибыльности рейса было выделено: убыточных рейсов 14 (23,7%), из них наиболее убыточных 4. Сумарный убыток составил 704 640 руб. Наиболее убточных рейсов 439 240 руб. Средняя заполняемость составила 79%, наиболее убыточных 76%   Основные потери пришлись от недопроданности билетов в эконом классе.\n",
    "5. За январь и февраль было недопроданно 996 мест, 88 в бизнесс классе и 908 в экономе"
   ]
  },
  {
   "cell_type": "markdown",
   "metadata": {},
   "source": [
    "### Белгород"
   ]
  },
  {
   "cell_type": "code",
   "execution_count": 873,
   "metadata": {},
   "outputs": [],
   "source": [
    "df_b = df_final[df_final['city_arrival'] == 'Belgorod']"
   ]
  },
  {
   "cell_type": "code",
   "execution_count": 874,
   "metadata": {},
   "outputs": [
    {
     "name": "stdout",
     "output_type": "stream",
     "text": [
      "Среднее кол-во пассажиров на рейс за январь : 90\n",
      "Рейсы с заполняемостью ниже среднего в январе 12\n",
      "Среднее кол-во пассажиров на рейс за февраль : 90\n",
      "Рейсы с заполняемостью ниже среднего в феврале 11\n"
     ]
    },
    {
     "data": {
      "image/png": "[encoded data removed]",
      "text/plain": [
       "<Figure size 720x720 with 2 Axes>"
      ]
     },
     "metadata": {},
     "output_type": "display_data"
    }
   ],
   "source": [
    "x = range(1,32)\n",
    "y = df_b.query('month_dep == 1').sort_values(by='day_dep')['total_in_flight']\n",
    "x1 = range(1,29)\n",
    "y1 = df_b.query('month_dep == 2').sort_values(by='day_dep')['total_in_flight']\n",
    "t = df_b['total_seats'].max()\n",
    "fig, (ax1, ax2) = plt.subplots(2, 1, constrained_layout=True, sharey=True,figsize=(10, 10))\n",
    "ax1.bar(x, y)\n",
    "ax1.set_title('Январь')\n",
    "ax1.set_xlabel('day')\n",
    "ax1.set_ylabel('Кол-во пассажиров')\n",
    "ax1.plot(x,[y.min() for i in x], '--',color='r')\n",
    "ax1.plot(x,[t for i in x], '--',color='g')\n",
    "ax2.bar(x1, y1)\n",
    "ax2.set_xlabel('day')\n",
    "ax2.set_title('Февраль')\n",
    "ax2.set_ylabel('Кол-во пассажиров')\n",
    "ax2.plot(x1,[y1.min() for i in x1], '--',color='r')\n",
    "ax2.plot(x1,[t for i in x1], '--',color='g')\n",
    "fig.suptitle('Пассажиропоток по месяцам', fontsize=16)\n",
    "print('Среднее кол-во пассажиров на рейс за январь :',\n",
    "      round(df_b.query('month_dep == 1').sort_values(by='day_dep')['total_in_flight'].mean()))\n",
    "print('Рейсы с заполняемостью ниже среднего в январе', df_b.query(\n",
    "    'month_dep == 1 & total_in_flight < 90')['flight_id'].nunique())\n",
    "print('Среднее кол-во пассажиров на рейс за февраль :',\n",
    "      round(df_b.query('month_dep == 2').sort_values(by='day_dep')['total_in_flight'].mean()))\n",
    "print('Рейсы с заполняемостью ниже среднего в феврале', df_b.query(\n",
    "    'month_dep == 2 & total_in_flight < 90')['flight_id'].nunique())"
   ]
  },
  {
   "cell_type": "code",
   "execution_count": 884,
   "metadata": {},
   "outputs": [
    {
     "name": "stdout",
     "output_type": "stream",
     "text": [
      "Среднее кол-во пассажиров на рейс за январь : 11\n",
      "Рейсы с заполняемостью ниже среднего в январе 9\n",
      "Среднее кол-во пассажиров на рейс за февраль : 11\n",
      "Рейсы с заполняемостью ниже среднего в феврале 8\n"
     ]
    },
    {
     "data": {
      "image/png": "[encoded data removed]",
      "text/plain": [
       "<Figure size 720x720 with 2 Axes>"
      ]
     },
     "metadata": {},
     "output_type": "display_data"
    }
   ],
   "source": [
    "x = range(1,32)\n",
    "y = df_b.query('month_dep == 1').sort_values(by='day_dep')['bus_seats']\n",
    "x1 = range(1,29)\n",
    "y1 = df_b.query('month_dep == 2').sort_values(by='day_dep')['bus_seats']\n",
    "t = df_b['bus_seats'].max()\n",
    "fig, (ax1, ax2) = plt.subplots(2, 1, constrained_layout=True, sharey=True,figsize=(10, 10))\n",
    "ax1.bar(x, y)\n",
    "ax1.set_title('Январь')\n",
    "ax1.set_xlabel('day')\n",
    "ax1.set_ylabel('Кол-во пассажиров')\n",
    "ax1.plot(x,[y.min() for i in x], '--',color='r')\n",
    "ax1.plot(x,[t for i in x], '--',color='g')\n",
    "ax2.bar(x1, y1)\n",
    "ax2.set_xlabel('day')\n",
    "ax2.set_title('Февраль')\n",
    "ax2.set_ylabel('Кол-во пассажиров')\n",
    "ax2.plot(x1,[y1.min() for i in x1], '--',color='r')\n",
    "ax2.plot(x1,[t for i in x1], '--',color='g')\n",
    "fig.suptitle('Заполняемость в бизнес классе по месяцам', fontsize=16)\n",
    "print('Среднее кол-во пассажиров на рейс за январь :',\n",
    "      round(df_b.query('month_dep == 1').sort_values(by='day_dep')['bus_seats'].mean()))\n",
    "print('Рейсы с заполняемостью ниже среднего в январе', df_b.query(\n",
    "    'month_dep == 1 & bus_seats < 11')['flight_id'].nunique())\n",
    "print('Среднее кол-во пассажиров на рейс за февраль :',\n",
    "      round(df_b.query('month_dep == 2').sort_values(by='day_dep')['bus_seats'].mean()))\n",
    "print('Рейсы с заполняемостью ниже среднего в феврале', df_b.query(\n",
    "    'month_dep == 2 & bus_seats < 11')['flight_id'].nunique())"
   ]
  },
  {
   "cell_type": "code",
   "execution_count": 878,
   "metadata": {},
   "outputs": [
    {
     "name": "stdout",
     "output_type": "stream",
     "text": [
      "Среднее кол-во пассажиров на рейс за январь : 79\n",
      "Рейсы с заполняемостью ниже среднего в январе 12\n",
      "Среднее кол-во пассажиров на рейс за февраль : 79\n",
      "Рейсы с заполняемостью ниже среднего в феврале 13\n"
     ]
    },
    {
     "data": {
      "image/png": "[encoded data removed]",
      "text/plain": [
       "<Figure size 720x720 with 2 Axes>"
      ]
     },
     "metadata": {},
     "output_type": "display_data"
    }
   ],
   "source": [
    "x = range(1,32)\n",
    "y = df_b.query('month_dep == 1').sort_values(by='day_dep')['eco_seats']\n",
    "x1 = range(1,29)\n",
    "y1 = df_b.query('month_dep == 2').sort_values(by='day_dep')['eco_seats']\n",
    "t = df_b['eco_seats'].max()\n",
    "fig, (ax1, ax2) = plt.subplots(2, 1, constrained_layout=True, sharey=True,figsize=(10, 10))\n",
    "ax1.bar(x, y)\n",
    "ax1.set_title('Январь')\n",
    "ax1.set_xlabel('day')\n",
    "ax1.set_ylabel('Кол-во пассажиров')\n",
    "ax1.plot(x,[y.min() for i in x], '--',color='r')\n",
    "ax1.plot(x,[t for i in x], '--',color='g')\n",
    "ax2.bar(x1, y1)\n",
    "ax2.set_xlabel('day')\n",
    "ax2.set_title('Февраль')\n",
    "ax2.set_ylabel('Кол-во пассажиров')\n",
    "ax2.plot(x1,[y1.min() for i in x1], '--',color='r')\n",
    "ax2.plot(x1,[t for i in x1], '--',color='g')\n",
    "fig.suptitle('Заполняемость в эконом классе по месяцам', fontsize=16)\n",
    "print('Среднее кол-во пассажиров на рейс за январь :',\n",
    "      round(df_b.query('month_dep == 1').sort_values(by='day_dep')['eco_seats'].mean()))\n",
    "print('Рейсы с заполняемостью ниже среднего в январе', df_b.query(\n",
    "    'month_dep == 1 & eco_seats < 79')['flight_id'].nunique())\n",
    "print('Среднее кол-во пассажиров на рейс за февраль :',\n",
    "      round(df_b.query('month_dep == 2').sort_values(by='day_dep')['eco_seats'].mean()))\n",
    "print('Рейсы с заполняемостью ниже среднего в феврале', df_b.query(\n",
    "    'month_dep == 2 & eco_seats < 79')['flight_id'].nunique())"
   ]
  },
  {
   "cell_type": "code",
   "execution_count": 877,
   "metadata": {},
   "outputs": [
    {
     "data": {
      "text/plain": [
       "Text(0.5, 0.98, 'Доля заполняемости по месяцам')"
      ]
     },
     "execution_count": 877,
     "metadata": {},
     "output_type": "execute_result"
    },
    {
     "data": {
      "image/png": "[encoded data removed]",
      "text/plain": [
       "<Figure size 720x720 with 2 Axes>"
      ]
     },
     "metadata": {},
     "output_type": "display_data"
    }
   ],
   "source": [
    "x = range(1,32)\n",
    "y = df_b.query('month_dep == 1').sort_values(by='day_dep')['occupancy_fl']\n",
    "x1 = range(1,29)\n",
    "y1 = df_b.query('month_dep == 2').sort_values(by='day_dep')['occupancy_fl']\n",
    "t = df_b['occupancy_fl'].mean()\n",
    "fig, (ax1, ax2) = plt.subplots(2, 1, constrained_layout=True, sharey=True,figsize=(10, 10))\n",
    "ax1.bar(x, y)\n",
    "ax1.set_title('Январь')\n",
    "ax1.set_xlabel('day')\n",
    "ax1.set_ylabel('Кол-во пассажиров')\n",
    "ax1.plot(x,[y.min() for i in x], '--',color='r')\n",
    "ax1.plot(x,[t for i in x], '--',color='g')\n",
    "ax2.bar(x1, y1)\n",
    "ax2.set_xlabel('day')\n",
    "ax2.set_title('Февраль')\n",
    "ax2.set_ylabel('Кол-во пассажиров')\n",
    "ax2.plot(x1,[y1.min() for i in x1], '--',color='r')\n",
    "ax2.plot(x1,[t for i in x1], '--',color='g')\n",
    "fig.suptitle('Доля заполняемости по месяцам', fontsize=16)"
   ]
  },
  {
   "cell_type": "code",
   "execution_count": 482,
   "metadata": {},
   "outputs": [
    {
     "data": {
      "text/html": [
       "<div>\n",
       "<style scoped>\n",
       "    .dataframe tbody tr th:only-of-type {\n",
       "        vertical-align: middle;\n",
       "    }\n",
       "\n",
       "    .dataframe tbody tr th {\n",
       "        vertical-align: top;\n",
       "    }\n",
       "\n",
       "    .dataframe thead th {\n",
       "        text-align: right;\n",
       "    }\n",
       "</style>\n",
       "<table border=\"1\" class=\"dataframe\">\n",
       "  <thead>\n",
       "    <tr style=\"text-align: right;\">\n",
       "      <th></th>\n",
       "      <th>flight_id</th>\n",
       "      <th>flight_no</th>\n",
       "      <th>month_dep</th>\n",
       "      <th>day_dep</th>\n",
       "      <th>day_name</th>\n",
       "      <th>real_time</th>\n",
       "      <th>arrival_airport</th>\n",
       "      <th>city_arrival</th>\n",
       "      <th>bus_seats</th>\n",
       "      <th>com_seats</th>\n",
       "      <th>...</th>\n",
       "      <th>total_seats</th>\n",
       "      <th>total_in_flight</th>\n",
       "      <th>empty_bus</th>\n",
       "      <th>empty_com</th>\n",
       "      <th>empty_eco</th>\n",
       "      <th>occupancy_fl</th>\n",
       "      <th>fuel_consum_rub</th>\n",
       "      <th>fuel_ratio</th>\n",
       "      <th>profit_margin</th>\n",
       "      <th>loss</th>\n",
       "    </tr>\n",
       "  </thead>\n",
       "  <tbody>\n",
       "    <tr>\n",
       "      <th>107</th>\n",
       "      <td>136887</td>\n",
       "      <td>PG0480</td>\n",
       "      <td>1</td>\n",
       "      <td>20</td>\n",
       "      <td>Friday</td>\n",
       "      <td>49</td>\n",
       "      <td>EGO</td>\n",
       "      <td>Belgorod</td>\n",
       "      <td>8.0</td>\n",
       "      <td>0.0</td>\n",
       "      <td>...</td>\n",
       "      <td>97</td>\n",
       "      <td>78.0</td>\n",
       "      <td>4.0</td>\n",
       "      <td>0.0</td>\n",
       "      <td>15.0</td>\n",
       "      <td>0.804124</td>\n",
       "      <td>67880.198167</td>\n",
       "      <td>0.114046</td>\n",
       "      <td>619893.0</td>\n",
       "      <td>24693.0</td>\n",
       "    </tr>\n",
       "    <tr>\n",
       "      <th>68</th>\n",
       "      <td>136642</td>\n",
       "      <td>PG0480</td>\n",
       "      <td>1</td>\n",
       "      <td>30</td>\n",
       "      <td>Monday</td>\n",
       "      <td>49</td>\n",
       "      <td>EGO</td>\n",
       "      <td>Belgorod</td>\n",
       "      <td>10.0</td>\n",
       "      <td>0.0</td>\n",
       "      <td>...</td>\n",
       "      <td>97</td>\n",
       "      <td>64.0</td>\n",
       "      <td>2.0</td>\n",
       "      <td>0.0</td>\n",
       "      <td>31.0</td>\n",
       "      <td>0.659794</td>\n",
       "      <td>67880.198167</td>\n",
       "      <td>0.127835</td>\n",
       "      <td>619893.0</td>\n",
       "      <td>88893.0</td>\n",
       "    </tr>\n",
       "    <tr>\n",
       "      <th>111</th>\n",
       "      <td>136922</td>\n",
       "      <td>PG0480</td>\n",
       "      <td>2</td>\n",
       "      <td>11</td>\n",
       "      <td>Saturday</td>\n",
       "      <td>50</td>\n",
       "      <td>EGO</td>\n",
       "      <td>Belgorod</td>\n",
       "      <td>10.0</td>\n",
       "      <td>0.0</td>\n",
       "      <td>...</td>\n",
       "      <td>97</td>\n",
       "      <td>76.0</td>\n",
       "      <td>2.0</td>\n",
       "      <td>0.0</td>\n",
       "      <td>19.0</td>\n",
       "      <td>0.783505</td>\n",
       "      <td>66119.431667</td>\n",
       "      <td>0.108785</td>\n",
       "      <td>619893.0</td>\n",
       "      <td>12093.0</td>\n",
       "    </tr>\n",
       "    <tr>\n",
       "      <th>65</th>\n",
       "      <td>136620</td>\n",
       "      <td>PG0480</td>\n",
       "      <td>2</td>\n",
       "      <td>17</td>\n",
       "      <td>Friday</td>\n",
       "      <td>49</td>\n",
       "      <td>EGO</td>\n",
       "      <td>Belgorod</td>\n",
       "      <td>9.0</td>\n",
       "      <td>0.0</td>\n",
       "      <td>...</td>\n",
       "      <td>97</td>\n",
       "      <td>79.0</td>\n",
       "      <td>3.0</td>\n",
       "      <td>0.0</td>\n",
       "      <td>15.0</td>\n",
       "      <td>0.814433</td>\n",
       "      <td>64797.043033</td>\n",
       "      <td>0.105619</td>\n",
       "      <td>619893.0</td>\n",
       "      <td>6393.0</td>\n",
       "    </tr>\n",
       "    <tr>\n",
       "      <th>93</th>\n",
       "      <td>136807</td>\n",
       "      <td>PG0480</td>\n",
       "      <td>2</td>\n",
       "      <td>23</td>\n",
       "      <td>Thursday</td>\n",
       "      <td>50</td>\n",
       "      <td>EGO</td>\n",
       "      <td>Belgorod</td>\n",
       "      <td>8.0</td>\n",
       "      <td>0.0</td>\n",
       "      <td>...</td>\n",
       "      <td>97</td>\n",
       "      <td>68.0</td>\n",
       "      <td>4.0</td>\n",
       "      <td>0.0</td>\n",
       "      <td>25.0</td>\n",
       "      <td>0.701031</td>\n",
       "      <td>66119.431667</td>\n",
       "      <td>0.124519</td>\n",
       "      <td>619893.0</td>\n",
       "      <td>88893.0</td>\n",
       "    </tr>\n",
       "    <tr>\n",
       "      <th>100</th>\n",
       "      <td>136844</td>\n",
       "      <td>PG0480</td>\n",
       "      <td>2</td>\n",
       "      <td>28</td>\n",
       "      <td>Tuesday</td>\n",
       "      <td>50</td>\n",
       "      <td>EGO</td>\n",
       "      <td>Belgorod</td>\n",
       "      <td>6.0</td>\n",
       "      <td>0.0</td>\n",
       "      <td>...</td>\n",
       "      <td>97</td>\n",
       "      <td>79.0</td>\n",
       "      <td>6.0</td>\n",
       "      <td>0.0</td>\n",
       "      <td>12.0</td>\n",
       "      <td>0.814433</td>\n",
       "      <td>66119.431667</td>\n",
       "      <td>0.114970</td>\n",
       "      <td>619893.0</td>\n",
       "      <td>44793.0</td>\n",
       "    </tr>\n",
       "  </tbody>\n",
       "</table>\n",
       "<p>6 rows × 26 columns</p>\n",
       "</div>"
      ],
      "text/plain": [
       "     flight_id flight_no  month_dep  day_dep  day_name  real_time  \\\n",
       "107     136887    PG0480          1       20    Friday         49   \n",
       "68      136642    PG0480          1       30    Monday         49   \n",
       "111     136922    PG0480          2       11  Saturday         50   \n",
       "65      136620    PG0480          2       17    Friday         49   \n",
       "93      136807    PG0480          2       23  Thursday         50   \n",
       "100     136844    PG0480          2       28   Tuesday         50   \n",
       "\n",
       "    arrival_airport city_arrival  bus_seats  com_seats  ...  total_seats  \\\n",
       "107             EGO     Belgorod        8.0        0.0  ...           97   \n",
       "68              EGO     Belgorod       10.0        0.0  ...           97   \n",
       "111             EGO     Belgorod       10.0        0.0  ...           97   \n",
       "65              EGO     Belgorod        9.0        0.0  ...           97   \n",
       "93              EGO     Belgorod        8.0        0.0  ...           97   \n",
       "100             EGO     Belgorod        6.0        0.0  ...           97   \n",
       "\n",
       "     total_in_flight empty_bus  empty_com  empty_eco  occupancy_fl  \\\n",
       "107             78.0       4.0        0.0       15.0      0.804124   \n",
       "68              64.0       2.0        0.0       31.0      0.659794   \n",
       "111             76.0       2.0        0.0       19.0      0.783505   \n",
       "65              79.0       3.0        0.0       15.0      0.814433   \n",
       "93              68.0       4.0        0.0       25.0      0.701031   \n",
       "100             79.0       6.0        0.0       12.0      0.814433   \n",
       "\n",
       "     fuel_consum_rub  fuel_ratio  profit_margin     loss  \n",
       "107     67880.198167    0.114046       619893.0  24693.0  \n",
       "68      67880.198167    0.127835       619893.0  88893.0  \n",
       "111     66119.431667    0.108785       619893.0  12093.0  \n",
       "65      64797.043033    0.105619       619893.0   6393.0  \n",
       "93      66119.431667    0.124519       619893.0  88893.0  \n",
       "100     66119.431667    0.114970       619893.0  44793.0  \n",
       "\n",
       "[6 rows x 26 columns]"
      ]
     },
     "execution_count": 482,
     "metadata": {},
     "output_type": "execute_result"
    }
   ],
   "source": [
    "df_problem[df_problem['city_arrival'] == 'Belgorod'].sort_values(by=['month_dep','day_dep'])"
   ]
  },
  {
   "cell_type": "code",
   "execution_count": 882,
   "metadata": {},
   "outputs": [
    {
     "name": "stdout",
     "output_type": "stream",
     "text": [
      "Убыточные рейсы в % январь-февраль 2017\n"
     ]
    },
    {
     "data": {
      "image/png": "[encoded data removed]",
      "text/plain": [
       "<Figure size 1080x720 with 1 Axes>"
      ]
     },
     "metadata": {},
     "output_type": "display_data"
    }
   ],
   "source": [
    "print('Убыточные рейсы в % январь-февраль 2017')\n",
    "labels = ['Убыточные','Прибыльные']\n",
    "sizes = [6,59-6]\n",
    "explode = (0.1, 0.1) \n",
    "fig1, ax1 = plt.subplots()\n",
    "ax1.pie(sizes, explode=explode, labels=labels, autopct='%1.1f%%',\n",
    "        shadow=True, startangle=90,radius=1)\n",
    "plt.show()"
   ]
  },
  {
   "cell_type": "code",
   "execution_count": 879,
   "metadata": {},
   "outputs": [
    {
     "name": "stdout",
     "output_type": "stream",
     "text": [
      "Доля выручки Анапа - Белгород по классам обслуживания за январь-февраль 2017\n"
     ]
    },
    {
     "data": {
      "image/png": "[encoded data removed]",
      "text/plain": [
       "<Figure size 1080x720 with 1 Axes>"
      ]
     },
     "metadata": {},
     "output_type": "display_data"
    }
   ],
   "source": [
    "print('Доля выручки Анапа - Белгород по классам обслуживания за январь-февраль 2017')\n",
    "labels = ['Buisnes','Econom']\n",
    "sizes = [df_b['bus_amount'].sum(),df_b['eco_amount'].sum()]\n",
    "explode = (0.1, 0.1) \n",
    "fig1, ax1 = plt.subplots()\n",
    "ax1.pie(sizes, explode=explode, labels=labels, autopct='%1.1f%%',\n",
    "        shadow=True, startangle=90,radius=1)\n",
    "plt.show()"
   ]
  },
  {
   "cell_type": "code",
   "execution_count": 764,
   "metadata": {},
   "outputs": [
    {
     "name": "stdout",
     "output_type": "stream",
     "text": [
      "<class 'pandas.core.frame.DataFrame'>\n",
      "Int64Index: 59 entries, 59 to 117\n",
      "Data columns (total 25 columns):\n",
      " #   Column               Non-Null Count  Dtype  \n",
      "---  ------               --------------  -----  \n",
      " 0   flight_id            59 non-null     int64  \n",
      " 1   flight_no            59 non-null     object \n",
      " 2   month_dep            59 non-null     int64  \n",
      " 3   day_dep              59 non-null     int64  \n",
      " 4   day_name             59 non-null     object \n",
      " 5   real_time            59 non-null     int64  \n",
      " 6   arrival_airport      59 non-null     object \n",
      " 7   city_arrival         59 non-null     object \n",
      " 8   bus_seats            59 non-null     float64\n",
      " 9   com_seats            59 non-null     float64\n",
      " 10  eco_seats            59 non-null     float64\n",
      " 11  total_amount_flight  59 non-null     float64\n",
      " 12  model                59 non-null     object \n",
      " 13  bussines_seats       59 non-null     int64  \n",
      " 14  comfort_seats        59 non-null     int64  \n",
      " 15  economy_seats        59 non-null     int64  \n",
      " 16  total_seats          59 non-null     int64  \n",
      " 17  total_in_flight      59 non-null     float64\n",
      " 18  empty_bus            59 non-null     float64\n",
      " 19  empty_com            59 non-null     float64\n",
      " 20  empty_eco            59 non-null     float64\n",
      " 21  occupancy_fl         59 non-null     float64\n",
      " 22  fuel_consum_rub      59 non-null     float64\n",
      " 23  fuel_ratio           59 non-null     float64\n",
      " 24  profit_margin        59 non-null     float64\n",
      "dtypes: float64(12), int64(8), object(5)\n",
      "memory usage: 12.0+ KB\n"
     ]
    }
   ],
   "source": [
    "df_b.info()"
   ]
  },
  {
   "cell_type": "code",
   "execution_count": 885,
   "metadata": {},
   "outputs": [
    {
     "data": {
      "text/html": [
       "<div>\n",
       "<style scoped>\n",
       "    .dataframe tbody tr th:only-of-type {\n",
       "        vertical-align: middle;\n",
       "    }\n",
       "\n",
       "    .dataframe tbody tr th {\n",
       "        vertical-align: top;\n",
       "    }\n",
       "\n",
       "    .dataframe thead th {\n",
       "        text-align: right;\n",
       "    }\n",
       "</style>\n",
       "<table border=\"1\" class=\"dataframe\">\n",
       "  <thead>\n",
       "    <tr style=\"text-align: right;\">\n",
       "      <th></th>\n",
       "      <th>flight_id</th>\n",
       "      <th>month_dep</th>\n",
       "      <th>day_dep</th>\n",
       "      <th>day_name</th>\n",
       "      <th>loss</th>\n",
       "    </tr>\n",
       "  </thead>\n",
       "  <tbody>\n",
       "    <tr>\n",
       "      <th>107</th>\n",
       "      <td>136887</td>\n",
       "      <td>1</td>\n",
       "      <td>20</td>\n",
       "      <td>4</td>\n",
       "      <td>24693.0</td>\n",
       "    </tr>\n",
       "    <tr>\n",
       "      <th>68</th>\n",
       "      <td>136642</td>\n",
       "      <td>1</td>\n",
       "      <td>30</td>\n",
       "      <td>0</td>\n",
       "      <td>88893.0</td>\n",
       "    </tr>\n",
       "    <tr>\n",
       "      <th>111</th>\n",
       "      <td>136922</td>\n",
       "      <td>2</td>\n",
       "      <td>11</td>\n",
       "      <td>5</td>\n",
       "      <td>12093.0</td>\n",
       "    </tr>\n",
       "    <tr>\n",
       "      <th>65</th>\n",
       "      <td>136620</td>\n",
       "      <td>2</td>\n",
       "      <td>17</td>\n",
       "      <td>4</td>\n",
       "      <td>6393.0</td>\n",
       "    </tr>\n",
       "    <tr>\n",
       "      <th>93</th>\n",
       "      <td>136807</td>\n",
       "      <td>2</td>\n",
       "      <td>23</td>\n",
       "      <td>3</td>\n",
       "      <td>88893.0</td>\n",
       "    </tr>\n",
       "    <tr>\n",
       "      <th>100</th>\n",
       "      <td>136844</td>\n",
       "      <td>2</td>\n",
       "      <td>28</td>\n",
       "      <td>1</td>\n",
       "      <td>44793.0</td>\n",
       "    </tr>\n",
       "  </tbody>\n",
       "</table>\n",
       "</div>"
      ],
      "text/plain": [
       "     flight_id  month_dep  day_dep  day_name     loss\n",
       "107     136887          1       20         4  24693.0\n",
       "68      136642          1       30         0  88893.0\n",
       "111     136922          2       11         5  12093.0\n",
       "65      136620          2       17         4   6393.0\n",
       "93      136807          2       23         3  88893.0\n",
       "100     136844          2       28         1  44793.0"
      ]
     },
     "execution_count": 885,
     "metadata": {},
     "output_type": "execute_result"
    }
   ],
   "source": [
    "df_problem[df_problem['city_arrival'] == 'Belgorod'].sort_values(\n",
    "    by=['month_dep', 'day_dep'])[['flight_id','month_dep', 'day_dep', 'day_name','loss']]"
   ]
  },
  {
   "cell_type": "markdown",
   "metadata": {},
   "source": [
    "1. За январь и февраль услугами авиакомпании по направлению Белгород (Spichenkovo), воспользовалось 5321 пассажиров, осуществленно 59 рейсов.\n",
    "2. Рейсы осуществляются ежедневно самолетом модели Sukhoi Superjet-100 с максимальной загрузкой 97 пассажиров, средняя заполняемость 93%.\n",
    "3. Общая выручка по направлению 41 915 700.0 руб\n",
    "4. По относительной границе прибыльности рейса было выделено: убыточных рейсов 6 (10,2%). Сумарный убыток составил 265 758.0 руб. Средняя заполняемость убыточных рейсов составила 76%. Основные потери пришлись от недопроданности билетов в эконом классе.\n",
    "5. За январь и февраль было недопроданно 402 места, 55 в бизнесс классе и 347 в экономе.\n",
    "6. Нужно отметить, что было совершено два рейса с заполняемостью 66% и 70% (30-го января и 23-го февраля)\n",
    "\n",
    "\n"
   ]
  },
  {
   "cell_type": "code",
   "execution_count": 842,
   "metadata": {},
   "outputs": [
    {
     "name": "stdout",
     "output_type": "stream",
     "text": [
      "<class 'pandas.core.frame.DataFrame'>\n",
      "Int64Index: 118 entries, 0 to 117\n",
      "Data columns (total 25 columns):\n",
      " #   Column               Non-Null Count  Dtype  \n",
      "---  ------               --------------  -----  \n",
      " 0   flight_id            118 non-null    int64  \n",
      " 1   flight_no            118 non-null    object \n",
      " 2   month_dep            118 non-null    int64  \n",
      " 3   day_dep              118 non-null    int64  \n",
      " 4   day_name             118 non-null    int64  \n",
      " 5   real_time            118 non-null    int64  \n",
      " 6   arrival_airport      118 non-null    object \n",
      " 7   city_arrival         118 non-null    object \n",
      " 8   bus_seats            118 non-null    float64\n",
      " 9   bus_occup            118 non-null    float64\n",
      " 10  eco_seats            118 non-null    float64\n",
      " 11  eco_occup            118 non-null    float64\n",
      " 12  model                118 non-null    object \n",
      " 13  total_seats          118 non-null    int64  \n",
      " 14  total_in_flight      118 non-null    float64\n",
      " 15  empty_bus            118 non-null    float64\n",
      " 16  empty_eco            118 non-null    float64\n",
      " 17  occupancy_fl         118 non-null    float64\n",
      " 18  bus_amount           118 non-null    float64\n",
      " 19  eco_amount           118 non-null    float64\n",
      " 20  fuel_consum_rub      118 non-null    float64\n",
      " 21  fuel_ratio           118 non-null    float64\n",
      " 22  profit_margin        118 non-null    float64\n",
      " 23  profit               118 non-null    float64\n",
      " 24  total_amount_flight  118 non-null    float64\n",
      "dtypes: float64(15), int64(6), object(4)\n",
      "memory usage: 24.0+ KB\n"
     ]
    }
   ],
   "source": [
    "df_final.info()"
   ]
  },
  {
   "cell_type": "code",
   "execution_count": 793,
   "metadata": {},
   "outputs": [],
   "source": [
    "df_final.to_csv('final_dataset.csv', index=False)"
   ]
  }
 ],
 "metadata": {
  "kernelspec": {
   "display_name": "Python 3",
   "language": "python",
   "name": "python3"
  },
  "language_info": {
   "codemirror_mode": {
    "name": "ipython",
    "version": 3
   },
   "file_extension": ".py",
   "mimetype": "text/x-python",
   "name": "python",
   "nbconvert_exporter": "python",
   "pygments_lexer": "ipython3",
   "version": "3.8.5"
  }
 },
 "nbformat": 4,
 "nbformat_minor": 4
}
