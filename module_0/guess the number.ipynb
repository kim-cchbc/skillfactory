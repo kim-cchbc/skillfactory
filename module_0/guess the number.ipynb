{
 "cells": [
  {
   "cell_type": "markdown",
   "metadata": {},
   "source": [
    "# Решение"
   ]
  },
  {
   "cell_type": "code",
   "execution_count": 341,
   "metadata": {},
   "outputs": [
    {
     "name": "stdout",
     "output_type": "stream",
     "text": [
      "Ваш алгоритм угадывает число в среднем за 5 попыток\n"
     ]
    },
    {
     "data": {
      "text/plain": [
       "5"
      ]
     },
     "execution_count": 341,
     "metadata": {},
     "output_type": "execute_result"
    }
   ],
   "source": [
    "import numpy as np\n",
    "\n",
    "def score_game(game_core):\n",
    "    '''Run the game 1000 times to find out how quickly the game guesses the number'''\n",
    "    count_ls = []\n",
    "    np.random.seed(1)  # fixing RANDOM SEED to make your experiment reproducible!\n",
    "    random_array = np.random.randint(1,101, size=(100))\n",
    "    for number in random_array:\n",
    "        count_ls.append(game_core(number))\n",
    "    score = int(np.mean(count_ls))\n",
    "    print(f\"Ваш алгоритм угадывает число в среднем за {score} попыток\")\n",
    "    return(score)\n",
    "\n",
    "\n",
    "def game_core_5_trying(number):\n",
    "    '''First we set any random number 'predict', then we rank it\n",
    "        relative to the hidden number 'number', taking into account several factors:\n",
    "        - single or two-digit numbers at the input\n",
    "        - more or less relative to each other\n",
    "        - we estimate the difference between numbers\n",
    "        - by searching, we select the desired number\n",
    "        The function takes a hidden number and returns the number of attempts\n",
    "       '''\n",
    "    count_trying = 1\n",
    "    predict = np.random.randint(1, 101)\n",
    "    \n",
    "    while number != predict:\n",
    "        count_trying += 1\n",
    "\n",
    "\n",
    "        if number > predict and number < 10: # number single-digit - predict single-digit\n",
    "                predict += 1\n",
    "                \n",
    "        elif number < predict and number < 10: # number one-digit - predict two-digit number\n",
    "                if predict > 10:\n",
    "                    if number > round(predict/10):\n",
    "                        predict = round(predict/10) + 1\n",
    "                        \n",
    "                    elif number < round(predict/10):\n",
    "                        predict = round(predict/10) - 1\n",
    "                        \n",
    "                    elif number == round(predict/10):\n",
    "                        predict = round(predict/10)\n",
    "                        \n",
    "                else:\n",
    "                    predict -= 1\n",
    "\n",
    "        if number > 9 and predict < 10:    # number two-digit predict one-digit\n",
    "            \n",
    "            if round(number/10) > predict: \n",
    "                predict += 1\n",
    "                \n",
    "                if round(number/10) == predict:    # reduce predict to two-digit\n",
    "                    predict = predict*10   \n",
    "                    \n",
    "            elif round(number/10) < predict:\n",
    "                predict -= 1\n",
    "                \n",
    "                if round(number/10) == predict:\n",
    "                    predict = predict*10\n",
    "                    \n",
    "            elif round(number/10) == predict:\n",
    "                predict = predict*10\n",
    "                \n",
    "        elif number > 9 and predict >= 10:   # number two-digit predict two-digit\n",
    "\n",
    "            # The difference between ten number and ten predict is more than 10    \n",
    "            if round(number/10) > round(predict/10) and round(number/10) - round(predict/10) > 1: \n",
    "                predict = predict + 1\n",
    "                \n",
    "                for i in range(2,9):\n",
    "                    if round(number/10) - round(predict/10) == i:\n",
    "                        predict = predict + (i - 1)*10\n",
    "                        \n",
    "            # The difference between ten predict and ten number is more than 10        \n",
    "            elif round(number/10) < round(predict/10) and round(predict/10)-round(number/10) > 1: \n",
    "                predict = predict - 10\n",
    "                \n",
    "                for i in range(3,8):\n",
    "                    if round(predict/10) - round(number/10) == i:\n",
    "                        predict = predict - (i-1)*10\n",
    "            \n",
    "            # The difference between ten predict and ten number is 10\n",
    "            elif round(number/10) < round(predict/10) and round(predict/10)-round(number/10) == 1:\n",
    "                predict -= 1\n",
    "                \n",
    "                if predict - number >10:\n",
    "                    predict -= 10\n",
    "                    \n",
    "                for i in range(2,9):\n",
    "                    if predict - number == i:\n",
    "                        predict = predict - (i-1)\n",
    "            \n",
    "            # The difference between ten number and ten predict is 10\n",
    "            elif round(number/10) > round(predict/10) and round(number/10)-round(predict/10) == 1:\n",
    "                predict += 10\n",
    "                \n",
    "            # Ten number is equal to ten predict   \n",
    "            elif round(number/10) == round(predict/10): # ten number equals ten predict\n",
    "                if number > predict:\n",
    "                    predict += 1\n",
    "                    \n",
    "                elif number < predict:\n",
    "                    predict -= 1\n",
    "                               \n",
    "    return(count_trying) # exit the loop if guessed right\n",
    "\n",
    "score_game(game_core_5_trying)"
   ]
  },
  {
   "cell_type": "code",
   "execution_count": null,
   "metadata": {},
   "outputs": [],
   "source": []
  }
 ],
 "metadata": {
  "kernelspec": {
   "display_name": "Python 3",
   "language": "python",
   "name": "python3"
  },
  "language_info": {
   "codemirror_mode": {
    "name": "ipython",
    "version": 3
   },
   "file_extension": ".py",
   "mimetype": "text/x-python",
   "name": "python",
   "nbconvert_exporter": "python",
   "pygments_lexer": "ipython3",
   "version": "3.8.5"
  }
 },
 "nbformat": 4,
 "nbformat_minor": 4
}
