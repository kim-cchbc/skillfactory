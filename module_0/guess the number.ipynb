{
 "cells": [
  {
   "cell_type": "markdown",
   "metadata": {},
   "source": [
    "# Решение"
   ]
  },
  {
   "cell_type": "code",
   "execution_count": 298,
   "metadata": {},
   "outputs": [
    {
     "name": "stdout",
     "output_type": "stream",
     "text": [
      "Ваш алгоритм угадывает число в среднем за 5 попыток\n"
     ]
    },
    {
     "data": {
      "text/plain": [
       "5"
      ]
     },
     "execution_count": 298,
     "metadata": {},
     "output_type": "execute_result"
    }
   ],
   "source": [
    "import numpy as np\n",
    "\n",
    "def score_game(game_core):\n",
    "    '''Запускаем игру 1000 раз, чтобы узнать, как быстро игра угадывает число'''\n",
    "    count_ls = []\n",
    "    np.random.seed(1)  # фиксируем RANDOM SEED, чтобы ваш эксперимент был воспроизводим!\n",
    "    random_array = np.random.randint(1,101, size=(100))\n",
    "    for number in random_array:\n",
    "        count_ls.append(game_core(number))\n",
    "    score = int(np.mean(count_ls))\n",
    "    print(f\"Ваш алгоритм угадывает число в среднем за {score} попыток\")\n",
    "    return(score)\n",
    "\n",
    "\n",
    "def game_core_v3(number):\n",
    "    '''Сначала устанавливаем любое random число, а потом уменьшаем или увеличиваем его в зависимости от того, больше оно или меньше нужного.\n",
    "       Функция принимает загаданное число и возвращает число попыток'''\n",
    "    count = 1\n",
    "    predict = np.random.randint(1, 101)\n",
    "    \n",
    "    while number != predict:\n",
    "        count+=1\n",
    "\n",
    "\n",
    "        if number > predict and number < 10: # number однозначное - предикт однозначное число\n",
    "                predict+=1\n",
    "                \n",
    "        elif number < predict and number < 10: # number однозначное - предикт двузначное число\n",
    "                if predict > 10:\n",
    "                    if number > round(predict/10):\n",
    "                        predict = round(predict/10)+1\n",
    "                        \n",
    "                    elif number < round(predict/10):\n",
    "                        predict = round(predict/10)-1\n",
    "                        \n",
    "                    elif number == round(predict/10):\n",
    "                        predict = round(predict/10)\n",
    "                        \n",
    "                else:\n",
    "                    predict-=1\n",
    "                     #БЛОК ЗА 4 ПОПЫТКИ\n",
    "\n",
    "        if number > 9 and predict < 10:    # number двузначное predict однозначное\n",
    "            if round(number/10) > predict: \n",
    "                predict+=1\n",
    "                \n",
    "                if round(number/10) == predict:\n",
    "                    predict = predict*10   #приводим predict к двузначному\n",
    "                    \n",
    "            elif round(number/10) < predict:\n",
    "                predict-=1\n",
    "                \n",
    "                if round(number/10) == predict:\n",
    "                    predict = predict*10\n",
    "            elif round(number/10)== predict:\n",
    "                predict = predict*10\n",
    "                \n",
    "\n",
    "\n",
    "  \n",
    "        elif number > 9 and predict >= 10: # number двузначное predict двузначное\n",
    "\n",
    "            if round(number/10) > round(predict/10) and round(number/10)-round(predict/10) > 1: #десяток number больше десятка predict\n",
    "                predict = predict + 1\n",
    "                \n",
    "                for i in range(2,9):\n",
    "                    if round(number/10) - round(predict/10) == i:\n",
    "                        predict = predict + (i-1)*10\n",
    "                    \n",
    "\n",
    "\n",
    "            elif round(number/10) < round(predict/10) and round(predict/10)-round(number/10) > 1: #десяток number меньше десятка predict\n",
    "                predict=predict-10\n",
    "                \n",
    "                for i in range(3,8):\n",
    "                    if round(predict/10) - round(number/10) == i:\n",
    "                        predict = predict - (i-1)*10\n",
    "                    \n",
    " \n",
    "\n",
    "            elif round(number/10) < round(predict/10) and round(predict/10)-round(number/10) == 1:\n",
    "                predict-=1\n",
    "                \n",
    "                if predict - number >10:\n",
    "                    predict-=10\n",
    "                    \n",
    "                for i in range(2,9):\n",
    "                    if predict - number == i:\n",
    "                        predict = predict - (i-1)\n",
    "                    \n",
    "                    \n",
    "            elif round(number/10) > round(predict/10) and round(number/10)-round(predict/10) == 1:\n",
    "                predict+=10\n",
    "                \n",
    "\n",
    "            elif round(number/10) == round(predict/10): #десяток number равен десятку predict\n",
    "                if number > predict:\n",
    "                    predict+=1\n",
    "                    \n",
    "                elif number < predict:\n",
    "                    predict-=1\n",
    "                    \n",
    "                \n",
    "            \n",
    "            \n",
    "            \n",
    "      \n",
    "           \n",
    "    return(count) # выход из цикла, если угадал\n",
    "\n",
    "score_game(game_core_v3)"
   ]
  },
  {
   "cell_type": "code",
   "execution_count": null,
   "metadata": {},
   "outputs": [],
   "source": []
  },
  {
   "cell_type": "code",
   "execution_count": null,
   "metadata": {},
   "outputs": [],
   "source": []
  }
 ],
 "metadata": {
  "kernelspec": {
   "display_name": "Python 3",
   "language": "python",
   "name": "python3"
  },
  "language_info": {
   "codemirror_mode": {
    "name": "ipython",
    "version": 3
   },
   "file_extension": ".py",
   "mimetype": "text/x-python",
   "name": "python",
   "nbconvert_exporter": "python",
   "pygments_lexer": "ipython3",
   "version": "3.8.5"
  }
 },
 "nbformat": 4,
 "nbformat_minor": 4
}
